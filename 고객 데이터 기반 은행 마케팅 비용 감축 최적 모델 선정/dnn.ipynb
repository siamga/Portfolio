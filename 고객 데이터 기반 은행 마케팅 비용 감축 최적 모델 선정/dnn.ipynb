{
 "cells": [
  {
   "cell_type": "code",
   "execution_count": 1,
   "metadata": {
    "ExecuteTime": {
     "end_time": "2022-05-25T12:43:12.651484Z",
     "start_time": "2022-05-25T12:43:05.675455Z"
    }
   },
   "outputs": [],
   "source": [
    "import pandas as pd\n",
    "from tensorflow.keras.models import Sequential\n",
    "from tensorflow.keras.layers import Dense\n",
    "import tensorflow_addons as tfa\n",
    "import numpy as np\n",
    "import tensorflow as tf\n",
    "from sklearn.model_selection import train_test_split\n",
    "import matplotlib.pyplot as plt\n",
    "from sklearn.model_selection import StratifiedKFold\n",
    "from sklearn.metrics import accuracy_score, precision_recall_curve, precision_score,recall_score, confusion_matrix"
   ]
  },
  {
   "cell_type": "code",
   "execution_count": 2,
   "metadata": {
    "ExecuteTime": {
     "end_time": "2022-05-25T12:43:13.026300Z",
     "start_time": "2022-05-25T12:43:12.655305Z"
    }
   },
   "outputs": [
    {
     "data": {
      "text/html": [
       "<div>\n",
       "<style scoped>\n",
       "    .dataframe tbody tr th:only-of-type {\n",
       "        vertical-align: middle;\n",
       "    }\n",
       "\n",
       "    .dataframe tbody tr th {\n",
       "        vertical-align: top;\n",
       "    }\n",
       "\n",
       "    .dataframe thead th {\n",
       "        text-align: right;\n",
       "    }\n",
       "</style>\n",
       "<table border=\"1\" class=\"dataframe\">\n",
       "  <thead>\n",
       "    <tr style=\"text-align: right;\">\n",
       "      <th></th>\n",
       "      <th>age</th>\n",
       "      <th>admin.</th>\n",
       "      <th>blue-collar</th>\n",
       "      <th>entrepreneur</th>\n",
       "      <th>housemaid</th>\n",
       "      <th>management</th>\n",
       "      <th>retired</th>\n",
       "      <th>self-employed</th>\n",
       "      <th>services</th>\n",
       "      <th>student</th>\n",
       "      <th>...</th>\n",
       "      <th>house_unknown</th>\n",
       "      <th>loan_no</th>\n",
       "      <th>loan_yes</th>\n",
       "      <th>loan_unknown</th>\n",
       "      <th>pdays</th>\n",
       "      <th>previous</th>\n",
       "      <th>pout_no</th>\n",
       "      <th>pout_yes</th>\n",
       "      <th>pout_unknown</th>\n",
       "      <th>y</th>\n",
       "    </tr>\n",
       "  </thead>\n",
       "  <tbody>\n",
       "    <tr>\n",
       "      <th>0</th>\n",
       "      <td>56</td>\n",
       "      <td>0.0</td>\n",
       "      <td>0.0</td>\n",
       "      <td>0.0</td>\n",
       "      <td>1.0</td>\n",
       "      <td>0.0</td>\n",
       "      <td>0.0</td>\n",
       "      <td>0.0</td>\n",
       "      <td>0.0</td>\n",
       "      <td>0.0</td>\n",
       "      <td>...</td>\n",
       "      <td>0.0</td>\n",
       "      <td>1.0</td>\n",
       "      <td>0.0</td>\n",
       "      <td>0.0</td>\n",
       "      <td>-1</td>\n",
       "      <td>0</td>\n",
       "      <td>0.0</td>\n",
       "      <td>0.0</td>\n",
       "      <td>1.0</td>\n",
       "      <td>0</td>\n",
       "    </tr>\n",
       "    <tr>\n",
       "      <th>1</th>\n",
       "      <td>57</td>\n",
       "      <td>0.0</td>\n",
       "      <td>0.0</td>\n",
       "      <td>0.0</td>\n",
       "      <td>0.0</td>\n",
       "      <td>0.0</td>\n",
       "      <td>0.0</td>\n",
       "      <td>0.0</td>\n",
       "      <td>1.0</td>\n",
       "      <td>0.0</td>\n",
       "      <td>...</td>\n",
       "      <td>0.0</td>\n",
       "      <td>1.0</td>\n",
       "      <td>0.0</td>\n",
       "      <td>0.0</td>\n",
       "      <td>-1</td>\n",
       "      <td>0</td>\n",
       "      <td>0.0</td>\n",
       "      <td>0.0</td>\n",
       "      <td>1.0</td>\n",
       "      <td>0</td>\n",
       "    </tr>\n",
       "    <tr>\n",
       "      <th>2</th>\n",
       "      <td>37</td>\n",
       "      <td>0.0</td>\n",
       "      <td>0.0</td>\n",
       "      <td>0.0</td>\n",
       "      <td>0.0</td>\n",
       "      <td>0.0</td>\n",
       "      <td>0.0</td>\n",
       "      <td>0.0</td>\n",
       "      <td>1.0</td>\n",
       "      <td>0.0</td>\n",
       "      <td>...</td>\n",
       "      <td>0.0</td>\n",
       "      <td>1.0</td>\n",
       "      <td>0.0</td>\n",
       "      <td>0.0</td>\n",
       "      <td>-1</td>\n",
       "      <td>0</td>\n",
       "      <td>0.0</td>\n",
       "      <td>0.0</td>\n",
       "      <td>1.0</td>\n",
       "      <td>0</td>\n",
       "    </tr>\n",
       "    <tr>\n",
       "      <th>3</th>\n",
       "      <td>40</td>\n",
       "      <td>1.0</td>\n",
       "      <td>0.0</td>\n",
       "      <td>0.0</td>\n",
       "      <td>0.0</td>\n",
       "      <td>0.0</td>\n",
       "      <td>0.0</td>\n",
       "      <td>0.0</td>\n",
       "      <td>0.0</td>\n",
       "      <td>0.0</td>\n",
       "      <td>...</td>\n",
       "      <td>0.0</td>\n",
       "      <td>1.0</td>\n",
       "      <td>0.0</td>\n",
       "      <td>0.0</td>\n",
       "      <td>-1</td>\n",
       "      <td>0</td>\n",
       "      <td>0.0</td>\n",
       "      <td>0.0</td>\n",
       "      <td>1.0</td>\n",
       "      <td>0</td>\n",
       "    </tr>\n",
       "    <tr>\n",
       "      <th>4</th>\n",
       "      <td>56</td>\n",
       "      <td>0.0</td>\n",
       "      <td>0.0</td>\n",
       "      <td>0.0</td>\n",
       "      <td>0.0</td>\n",
       "      <td>0.0</td>\n",
       "      <td>0.0</td>\n",
       "      <td>0.0</td>\n",
       "      <td>1.0</td>\n",
       "      <td>0.0</td>\n",
       "      <td>...</td>\n",
       "      <td>0.0</td>\n",
       "      <td>0.0</td>\n",
       "      <td>1.0</td>\n",
       "      <td>0.0</td>\n",
       "      <td>-1</td>\n",
       "      <td>0</td>\n",
       "      <td>0.0</td>\n",
       "      <td>0.0</td>\n",
       "      <td>1.0</td>\n",
       "      <td>0</td>\n",
       "    </tr>\n",
       "    <tr>\n",
       "      <th>...</th>\n",
       "      <td>...</td>\n",
       "      <td>...</td>\n",
       "      <td>...</td>\n",
       "      <td>...</td>\n",
       "      <td>...</td>\n",
       "      <td>...</td>\n",
       "      <td>...</td>\n",
       "      <td>...</td>\n",
       "      <td>...</td>\n",
       "      <td>...</td>\n",
       "      <td>...</td>\n",
       "      <td>...</td>\n",
       "      <td>...</td>\n",
       "      <td>...</td>\n",
       "      <td>...</td>\n",
       "      <td>...</td>\n",
       "      <td>...</td>\n",
       "      <td>...</td>\n",
       "      <td>...</td>\n",
       "      <td>...</td>\n",
       "      <td>...</td>\n",
       "    </tr>\n",
       "    <tr>\n",
       "      <th>41183</th>\n",
       "      <td>73</td>\n",
       "      <td>0.0</td>\n",
       "      <td>0.0</td>\n",
       "      <td>0.0</td>\n",
       "      <td>0.0</td>\n",
       "      <td>0.0</td>\n",
       "      <td>1.0</td>\n",
       "      <td>0.0</td>\n",
       "      <td>0.0</td>\n",
       "      <td>0.0</td>\n",
       "      <td>...</td>\n",
       "      <td>0.0</td>\n",
       "      <td>1.0</td>\n",
       "      <td>0.0</td>\n",
       "      <td>0.0</td>\n",
       "      <td>-1</td>\n",
       "      <td>0</td>\n",
       "      <td>0.0</td>\n",
       "      <td>0.0</td>\n",
       "      <td>1.0</td>\n",
       "      <td>1</td>\n",
       "    </tr>\n",
       "    <tr>\n",
       "      <th>41184</th>\n",
       "      <td>46</td>\n",
       "      <td>0.0</td>\n",
       "      <td>1.0</td>\n",
       "      <td>0.0</td>\n",
       "      <td>0.0</td>\n",
       "      <td>0.0</td>\n",
       "      <td>0.0</td>\n",
       "      <td>0.0</td>\n",
       "      <td>0.0</td>\n",
       "      <td>0.0</td>\n",
       "      <td>...</td>\n",
       "      <td>0.0</td>\n",
       "      <td>1.0</td>\n",
       "      <td>0.0</td>\n",
       "      <td>0.0</td>\n",
       "      <td>-1</td>\n",
       "      <td>0</td>\n",
       "      <td>0.0</td>\n",
       "      <td>0.0</td>\n",
       "      <td>1.0</td>\n",
       "      <td>0</td>\n",
       "    </tr>\n",
       "    <tr>\n",
       "      <th>41185</th>\n",
       "      <td>56</td>\n",
       "      <td>0.0</td>\n",
       "      <td>0.0</td>\n",
       "      <td>0.0</td>\n",
       "      <td>0.0</td>\n",
       "      <td>0.0</td>\n",
       "      <td>1.0</td>\n",
       "      <td>0.0</td>\n",
       "      <td>0.0</td>\n",
       "      <td>0.0</td>\n",
       "      <td>...</td>\n",
       "      <td>0.0</td>\n",
       "      <td>1.0</td>\n",
       "      <td>0.0</td>\n",
       "      <td>0.0</td>\n",
       "      <td>-1</td>\n",
       "      <td>0</td>\n",
       "      <td>0.0</td>\n",
       "      <td>0.0</td>\n",
       "      <td>1.0</td>\n",
       "      <td>0</td>\n",
       "    </tr>\n",
       "    <tr>\n",
       "      <th>41186</th>\n",
       "      <td>44</td>\n",
       "      <td>0.0</td>\n",
       "      <td>0.0</td>\n",
       "      <td>0.0</td>\n",
       "      <td>0.0</td>\n",
       "      <td>0.0</td>\n",
       "      <td>0.0</td>\n",
       "      <td>0.0</td>\n",
       "      <td>0.0</td>\n",
       "      <td>0.0</td>\n",
       "      <td>...</td>\n",
       "      <td>0.0</td>\n",
       "      <td>1.0</td>\n",
       "      <td>0.0</td>\n",
       "      <td>0.0</td>\n",
       "      <td>-1</td>\n",
       "      <td>0</td>\n",
       "      <td>0.0</td>\n",
       "      <td>0.0</td>\n",
       "      <td>1.0</td>\n",
       "      <td>1</td>\n",
       "    </tr>\n",
       "    <tr>\n",
       "      <th>41187</th>\n",
       "      <td>74</td>\n",
       "      <td>0.0</td>\n",
       "      <td>0.0</td>\n",
       "      <td>0.0</td>\n",
       "      <td>0.0</td>\n",
       "      <td>0.0</td>\n",
       "      <td>1.0</td>\n",
       "      <td>0.0</td>\n",
       "      <td>0.0</td>\n",
       "      <td>0.0</td>\n",
       "      <td>...</td>\n",
       "      <td>0.0</td>\n",
       "      <td>1.0</td>\n",
       "      <td>0.0</td>\n",
       "      <td>0.0</td>\n",
       "      <td>-1</td>\n",
       "      <td>1</td>\n",
       "      <td>1.0</td>\n",
       "      <td>0.0</td>\n",
       "      <td>0.0</td>\n",
       "      <td>0</td>\n",
       "    </tr>\n",
       "  </tbody>\n",
       "</table>\n",
       "<p>41188 rows × 40 columns</p>\n",
       "</div>"
      ],
      "text/plain": [
       "       age  admin.  blue-collar  entrepreneur  housemaid  management  retired  \\\n",
       "0       56     0.0          0.0           0.0        1.0         0.0      0.0   \n",
       "1       57     0.0          0.0           0.0        0.0         0.0      0.0   \n",
       "2       37     0.0          0.0           0.0        0.0         0.0      0.0   \n",
       "3       40     1.0          0.0           0.0        0.0         0.0      0.0   \n",
       "4       56     0.0          0.0           0.0        0.0         0.0      0.0   \n",
       "...    ...     ...          ...           ...        ...         ...      ...   \n",
       "41183   73     0.0          0.0           0.0        0.0         0.0      1.0   \n",
       "41184   46     0.0          1.0           0.0        0.0         0.0      0.0   \n",
       "41185   56     0.0          0.0           0.0        0.0         0.0      1.0   \n",
       "41186   44     0.0          0.0           0.0        0.0         0.0      0.0   \n",
       "41187   74     0.0          0.0           0.0        0.0         0.0      1.0   \n",
       "\n",
       "       self-employed  services  student  ...  house_unknown  loan_no  \\\n",
       "0                0.0       0.0      0.0  ...            0.0      1.0   \n",
       "1                0.0       1.0      0.0  ...            0.0      1.0   \n",
       "2                0.0       1.0      0.0  ...            0.0      1.0   \n",
       "3                0.0       0.0      0.0  ...            0.0      1.0   \n",
       "4                0.0       1.0      0.0  ...            0.0      0.0   \n",
       "...              ...       ...      ...  ...            ...      ...   \n",
       "41183            0.0       0.0      0.0  ...            0.0      1.0   \n",
       "41184            0.0       0.0      0.0  ...            0.0      1.0   \n",
       "41185            0.0       0.0      0.0  ...            0.0      1.0   \n",
       "41186            0.0       0.0      0.0  ...            0.0      1.0   \n",
       "41187            0.0       0.0      0.0  ...            0.0      1.0   \n",
       "\n",
       "       loan_yes  loan_unknown  pdays  previous  pout_no  pout_yes  \\\n",
       "0           0.0           0.0     -1         0      0.0       0.0   \n",
       "1           0.0           0.0     -1         0      0.0       0.0   \n",
       "2           0.0           0.0     -1         0      0.0       0.0   \n",
       "3           0.0           0.0     -1         0      0.0       0.0   \n",
       "4           1.0           0.0     -1         0      0.0       0.0   \n",
       "...         ...           ...    ...       ...      ...       ...   \n",
       "41183       0.0           0.0     -1         0      0.0       0.0   \n",
       "41184       0.0           0.0     -1         0      0.0       0.0   \n",
       "41185       0.0           0.0     -1         0      0.0       0.0   \n",
       "41186       0.0           0.0     -1         0      0.0       0.0   \n",
       "41187       0.0           0.0     -1         1      1.0       0.0   \n",
       "\n",
       "       pout_unknown  y  \n",
       "0               1.0  0  \n",
       "1               1.0  0  \n",
       "2               1.0  0  \n",
       "3               1.0  0  \n",
       "4               1.0  0  \n",
       "...             ... ..  \n",
       "41183           1.0  1  \n",
       "41184           1.0  0  \n",
       "41185           1.0  0  \n",
       "41186           1.0  1  \n",
       "41187           0.0  0  \n",
       "\n",
       "[41188 rows x 40 columns]"
      ]
     },
     "execution_count": 2,
     "metadata": {},
     "output_type": "execute_result"
    }
   ],
   "source": [
    "df_onehot = pd.read_csv('onehot_encoding_data.csv').drop('Unnamed: 0',axis=1)\n",
    "df_onehot\n",
    "# pd.read_csv('label_encoding_data.csv')"
   ]
  },
  {
   "cell_type": "code",
   "execution_count": 3,
   "metadata": {
    "ExecuteTime": {
     "end_time": "2022-05-25T12:43:13.042233Z",
     "start_time": "2022-05-25T12:43:13.030264Z"
    }
   },
   "outputs": [],
   "source": [
    "np.random.seed(0)\n",
    "tf.random.set_seed(0)"
   ]
  },
  {
   "cell_type": "code",
   "execution_count": 4,
   "metadata": {
    "ExecuteTime": {
     "end_time": "2022-05-25T12:43:23.912651Z",
     "start_time": "2022-05-25T12:43:13.046222Z"
    }
   },
   "outputs": [
    {
     "name": "stdout",
     "output_type": "stream",
     "text": [
      "Epoch 1/20\n",
      "289/289 [==============================] - 1s 1ms/step - loss: 0.3274 - accuracy: 0.8923\n",
      "Epoch 2/20\n",
      "289/289 [==============================] - 0s 1ms/step - loss: 0.3149 - accuracy: 0.8971\n",
      "Epoch 3/20\n",
      "289/289 [==============================] - 0s 1ms/step - loss: 0.3132 - accuracy: 0.8981\n",
      "Epoch 4/20\n",
      "289/289 [==============================] - 0s 1ms/step - loss: 0.3130 - accuracy: 0.8984\n",
      "Epoch 5/20\n",
      "289/289 [==============================] - 0s 1ms/step - loss: 0.3126 - accuracy: 0.8987\n",
      "Epoch 6/20\n",
      "289/289 [==============================] - 0s 1ms/step - loss: 0.3113 - accuracy: 0.8985\n",
      "Epoch 7/20\n",
      "289/289 [==============================] - 0s 1ms/step - loss: 0.3124 - accuracy: 0.8981\n",
      "Epoch 8/20\n",
      "289/289 [==============================] - 0s 1ms/step - loss: 0.3116 - accuracy: 0.8983\n",
      "Epoch 9/20\n",
      "289/289 [==============================] - 0s 1ms/step - loss: 0.3116 - accuracy: 0.8988\n",
      "Epoch 10/20\n",
      "289/289 [==============================] - 0s 1ms/step - loss: 0.3108 - accuracy: 0.8988\n",
      "Epoch 11/20\n",
      "289/289 [==============================] - 0s 1ms/step - loss: 0.3104 - accuracy: 0.8990\n",
      "Epoch 12/20\n",
      "289/289 [==============================] - 0s 1ms/step - loss: 0.3114 - accuracy: 0.8990\n",
      "Epoch 13/20\n",
      "289/289 [==============================] - 0s 1ms/step - loss: 0.3106 - accuracy: 0.8983\n",
      "Epoch 14/20\n",
      "289/289 [==============================] - 0s 1ms/step - loss: 0.3107 - accuracy: 0.8989\n",
      "Epoch 15/20\n",
      "289/289 [==============================] - 0s 1ms/step - loss: 0.3099 - accuracy: 0.8985\n",
      "Epoch 16/20\n",
      "289/289 [==============================] - 0s 1ms/step - loss: 0.3108 - accuracy: 0.8982\n",
      "Epoch 17/20\n",
      "289/289 [==============================] - 0s 1ms/step - loss: 0.3093 - accuracy: 0.8990\n",
      "Epoch 18/20\n",
      "289/289 [==============================] - 0s 1ms/step - loss: 0.3091 - accuracy: 0.8990\n",
      "Epoch 19/20\n",
      "289/289 [==============================] - 0s 1ms/step - loss: 0.3107 - accuracy: 0.8990\n",
      "Epoch 20/20\n",
      "289/289 [==============================] - 0s 1ms/step - loss: 0.3085 - accuracy: 0.8993\n"
     ]
    }
   ],
   "source": [
    "feature = df_onehot.loc[:,:'pout_unknown']\n",
    "target = df_onehot['y']\n",
    "\n",
    "X = np.array(feature)\n",
    "y = np.array(target)\n",
    "\n",
    "X_train, X_test, y_train, y_test = train_test_split(X,y,test_size=0.3,random_state=0)\n",
    "\n",
    "model = Sequential()\n",
    "model.add(Dense(30,input_dim = len(feature.columns),activation='relu'))\n",
    "model.add(Dense(30,activation='relu'))\n",
    "model.add(Dense(1,activation='sigmoid'))\n",
    "\n",
    "model.compile(loss='binary_crossentropy',optimizer = 'adam', metrics=['accuracy'])\n",
    "history = model.fit(X_train,y_train,epochs=20,batch_size=100)"
   ]
  },
  {
   "cell_type": "code",
   "execution_count": 5,
   "metadata": {
    "ExecuteTime": {
     "end_time": "2022-05-25T12:43:24.387152Z",
     "start_time": "2022-05-25T12:43:23.915643Z"
    }
   },
   "outputs": [
    {
     "name": "stdout",
     "output_type": "stream",
     "text": [
      "387/387 [==============================] - 0s 819us/step\n"
     ]
    }
   ],
   "source": [
    "y_pred = model.predict(X_test)\n",
    "# list(y_pred.reshape(1,-1))\n",
    "# y_test/\n",
    "# y_pred.reshape(1,-1)[0]\n",
    "# y_test\n"
   ]
  },
  {
   "cell_type": "code",
   "execution_count": 6,
   "metadata": {
    "ExecuteTime": {
     "end_time": "2022-05-25T12:43:24.419138Z",
     "start_time": "2022-05-25T12:43:24.390153Z"
    }
   },
   "outputs": [
    {
     "data": {
      "text/plain": [
       "<keras.metrics.metrics.Recall at 0x1a0f9101220>"
      ]
     },
     "execution_count": 6,
     "metadata": {},
     "output_type": "execute_result"
    }
   ],
   "source": [
    "recall = tf.keras.metrics.Recall()\n",
    "recall"
   ]
  },
  {
   "cell_type": "code",
   "execution_count": 7,
   "metadata": {
    "ExecuteTime": {
     "end_time": "2022-05-25T12:43:24.435031Z",
     "start_time": "2022-05-25T12:43:24.424097Z"
    }
   },
   "outputs": [
    {
     "data": {
      "text/plain": [
       "array([[0.07714236],\n",
       "       [0.1622765 ],\n",
       "       [0.05719289],\n",
       "       ...,\n",
       "       [0.09003108],\n",
       "       [0.11388749],\n",
       "       [0.12428156]], dtype=float32)"
      ]
     },
     "execution_count": 7,
     "metadata": {},
     "output_type": "execute_result"
    }
   ],
   "source": [
    "y_test\n",
    "y_pred.reshape(-1,1)"
   ]
  },
  {
   "cell_type": "code",
   "execution_count": 8,
   "metadata": {
    "ExecuteTime": {
     "end_time": "2022-05-25T12:51:57.933756Z",
     "start_time": "2022-05-25T12:51:57.910819Z"
    }
   },
   "outputs": [
    {
     "data": {
      "text/plain": [
       "0    512\n",
       "dtype: int64"
      ]
     },
     "execution_count": 8,
     "metadata": {},
     "output_type": "execute_result"
    }
   ],
   "source": [
    "dnn = pd.DataFrame(data=y_pred).astype('float64')\n",
    "dnn[0]=dnn[0].apply(lambda x: 1 if x >= 0.5 else 0)\n",
    "dnn.sum()"
   ]
  },
  {
   "cell_type": "code",
   "execution_count": 9,
   "metadata": {
    "ExecuteTime": {
     "end_time": "2022-05-25T12:43:38.573934Z",
     "start_time": "2022-05-25T12:43:24.442027Z"
    }
   },
   "outputs": [
    {
     "name": "stdout",
     "output_type": "stream",
     "text": [
      "Epoch 1/20\n",
      "289/289 [==============================] - 2s 2ms/step - loss: 0.3957 - accuracy: 0.8605 - precision: 0.2319 - recall: 0.1024 - false_positives: 1103.0000 - false_negatives: 2919.0000 - f1_score: 0.2027\n",
      "Epoch 2/20\n",
      "289/289 [==============================] - 0s 2ms/step - loss: 0.3171 - accuracy: 0.8973 - precision: 0.6655 - recall: 0.1793 - false_positives: 293.0000 - false_negatives: 2669.0000 - f1_score: 0.2027\n",
      "Epoch 3/20\n",
      "289/289 [==============================] - 0s 2ms/step - loss: 0.3139 - accuracy: 0.8975 - precision: 0.6559 - recall: 0.1928 - false_positives: 329.0000 - false_negatives: 2625.0000 - f1_score: 0.2027\n",
      "Epoch 4/20\n",
      "289/289 [==============================] - 0s 2ms/step - loss: 0.3128 - accuracy: 0.8982 - precision: 0.6649 - recall: 0.1965 - false_positives: 322.0000 - false_negatives: 2613.0000 - f1_score: 0.2027\n",
      "Epoch 5/20\n",
      "289/289 [==============================] - 0s 2ms/step - loss: 0.3118 - accuracy: 0.8981 - precision: 0.6656 - recall: 0.1940 - false_positives: 317.0000 - false_negatives: 2621.0000 - f1_score: 0.2027\n",
      "Epoch 6/20\n",
      "289/289 [==============================] - 0s 2ms/step - loss: 0.3111 - accuracy: 0.8984 - precision: 0.6670 - recall: 0.1990 - false_positives: 323.0000 - false_negatives: 2605.0000 - f1_score: 0.2027\n",
      "Epoch 7/20\n",
      "289/289 [==============================] - 0s 2ms/step - loss: 0.3127 - accuracy: 0.8980 - precision: 0.6615 - recall: 0.1959 - false_positives: 326.0000 - false_negatives: 2615.0000 - f1_score: 0.2027\n",
      "Epoch 8/20\n",
      "289/289 [==============================] - 0s 2ms/step - loss: 0.3110 - accuracy: 0.8982 - precision: 0.6677 - recall: 0.1946 - false_positives: 315.0000 - false_negatives: 2619.0000 - f1_score: 0.2027\n",
      "Epoch 9/20\n",
      "289/289 [==============================] - 0s 2ms/step - loss: 0.3107 - accuracy: 0.8988 - precision: 0.6697 - recall: 0.2020 - false_positives: 324.0000 - false_negatives: 2595.0000 - f1_score: 0.2027\n",
      "Epoch 10/20\n",
      "289/289 [==============================] - 0s 2ms/step - loss: 0.3111 - accuracy: 0.8983 - precision: 0.6656 - recall: 0.1983 - false_positives: 324.0000 - false_negatives: 2607.0000 - f1_score: 0.2027\n",
      "Epoch 11/20\n",
      "289/289 [==============================] - 0s 2ms/step - loss: 0.3104 - accuracy: 0.8985 - precision: 0.6670 - recall: 0.2008 - false_positives: 326.0000 - false_negatives: 2599.0000 - f1_score: 0.2027\n",
      "Epoch 12/20\n",
      "289/289 [==============================] - 0s 2ms/step - loss: 0.3107 - accuracy: 0.8987 - precision: 0.6687 - recall: 0.2011 - false_positives: 324.0000 - false_negatives: 2598.0000 - f1_score: 0.2027\n",
      "Epoch 13/20\n",
      "289/289 [==============================] - 0s 2ms/step - loss: 0.3105 - accuracy: 0.8982 - precision: 0.6642 - recall: 0.1965 - false_positives: 323.0000 - false_negatives: 2613.0000 - f1_score: 0.2027\n",
      "Epoch 14/20\n",
      "289/289 [==============================] - 0s 2ms/step - loss: 0.3099 - accuracy: 0.8982 - precision: 0.6660 - recall: 0.1962 - false_positives: 320.0000 - false_negatives: 2614.0000 - f1_score: 0.2027\n",
      "Epoch 15/20\n",
      "289/289 [==============================] - 0s 2ms/step - loss: 0.3096 - accuracy: 0.8985 - precision: 0.6691 - recall: 0.1983 - false_positives: 319.0000 - false_negatives: 2607.0000 - f1_score: 0.2027\n",
      "Epoch 16/20\n",
      "289/289 [==============================] - 1s 2ms/step - loss: 0.3100 - accuracy: 0.8980 - precision: 0.6628 - recall: 0.1953 - false_positives: 323.0000 - false_negatives: 2617.0000 - f1_score: 0.2027\n",
      "Epoch 17/20\n",
      "289/289 [==============================] - 0s 2ms/step - loss: 0.3094 - accuracy: 0.8983 - precision: 0.6646 - recall: 0.1980 - false_positives: 325.0000 - false_negatives: 2608.0000 - f1_score: 0.2027\n",
      "Epoch 18/20\n",
      "289/289 [==============================] - 1s 2ms/step - loss: 0.3087 - accuracy: 0.8983 - precision: 0.6684 - recall: 0.1959 - false_positives: 316.0000 - false_negatives: 2615.0000 - f1_score: 0.2027\n",
      "Epoch 19/20\n",
      "289/289 [==============================] - 0s 2ms/step - loss: 0.3097 - accuracy: 0.8985 - precision: 0.6694 - recall: 0.1974 - false_positives: 317.0000 - false_negatives: 2610.0000 - f1_score: 0.2027\n",
      "Epoch 20/20\n",
      "289/289 [==============================] - 0s 2ms/step - loss: 0.3083 - accuracy: 0.8988 - precision: 0.6747 - recall: 0.1983 - false_positives: 311.0000 - false_negatives: 2607.0000 - f1_score: 0.2027\n"
     ]
    }
   ],
   "source": [
    "feature = df_onehot.loc[:,:'pout_unknown']\n",
    "target = df_onehot['y']\n",
    "\n",
    "X = np.array(feature)\n",
    "y = np.array(target)\n",
    "\n",
    "X_train, X_test, y_train, y_test = train_test_split(X,y,test_size=0.3,random_state=0)\n",
    "\n",
    "model = Sequential()\n",
    "model.add(Dense(30,input_dim = len(feature.columns),activation='relu'))\n",
    "model.add(Dense(30,input_dim = len(feature.columns),activation='relu'))\n",
    "model.add(Dense(1,activation='sigmoid'))\n",
    "\n",
    "model.compile(loss='binary_crossentropy',optimizer = 'adam', metrics=['accuracy',tf.keras.metrics.Precision(name='precision')\n",
    "                          ,tf.keras.metrics.Recall(name='recall')\n",
    "                          ,tf.keras.metrics.FalsePositives(name='false_positives')\n",
    "                          ,tf.keras.metrics.FalseNegatives(name='false_negatives')\n",
    "                          ,tfa.metrics.F1Score(name='f1_score',num_classes=1)])\n",
    "history = model.fit(X_train,y_train,epochs=20,batch_size=100)\n"
   ]
  },
  {
   "cell_type": "code",
   "execution_count": 10,
   "metadata": {
    "ExecuteTime": {
     "end_time": "2022-05-25T12:43:38.919318Z",
     "start_time": "2022-05-25T12:43:38.576933Z"
    }
   },
   "outputs": [
    {
     "data": {
      "image/png": "[encoded data removed]",
      "text/plain": [
       "<Figure size 640x480 with 1 Axes>"
      ]
     },
     "metadata": {},
     "output_type": "display_data"
    }
   ],
   "source": [
    "history.history.keys()\n",
    "\n",
    "plt.plot(history.history['recall'],label='recall')\n",
    "plt.plot(history.history['precision'],label='precision')\n",
    "plt.legend()\n",
    "plt.show()\n"
   ]
  },
  {
   "cell_type": "code",
   "execution_count": 11,
   "metadata": {
    "ExecuteTime": {
     "end_time": "2022-05-25T12:43:39.169758Z",
     "start_time": "2022-05-25T12:43:38.923282Z"
    }
   },
   "outputs": [
    {
     "data": {
      "text/plain": [
       "<matplotlib.legend.Legend at 0x1a0f8333e50>"
      ]
     },
     "execution_count": 11,
     "metadata": {},
     "output_type": "execute_result"
    },
    {
     "data": {
      "image/png": "[encoded data removed]",
      "text/plain": [
       "<Figure size 640x480 with 1 Axes>"
      ]
     },
     "metadata": {},
     "output_type": "display_data"
    }
   ],
   "source": [
    "plt.plot(history.history['accuracy'],label='accuracy')\n",
    "plt.plot(history.history['loss'],label='loss')\n",
    "plt.legend()"
   ]
  },
  {
   "cell_type": "code",
   "execution_count": 12,
   "metadata": {
    "ExecuteTime": {
     "end_time": "2022-05-25T12:43:39.326407Z",
     "start_time": "2022-05-25T12:43:39.171755Z"
    }
   },
   "outputs": [
    {
     "data": {
      "text/plain": [
       "[<matplotlib.lines.Line2D at 0x1a0f90fd160>]"
      ]
     },
     "execution_count": 12,
     "metadata": {},
     "output_type": "execute_result"
    },
    {
     "data": {
      "image/png": "[encoded data removed]",
      "text/plain": [
       "<Figure size 640x480 with 1 Axes>"
      ]
     },
     "metadata": {},
     "output_type": "display_data"
    }
   ],
   "source": [
    "plt.plot(history.history['f1_score'])"
   ]
  },
  {
   "cell_type": "code",
   "execution_count": 13,
   "metadata": {
    "ExecuteTime": {
     "end_time": "2022-05-25T12:43:40.683760Z",
     "start_time": "2022-05-25T12:43:39.329335Z"
    }
   },
   "outputs": [
    {
     "name": "stdout",
     "output_type": "stream",
     "text": [
      "387/387 [==============================] - 1s 1ms/step - loss: 0.3170 - accuracy: 0.8954 - precision: 0.5920 - recall: 0.2226 - false_positives: 213.0000 - false_negatives: 1079.0000 - f1_score: 0.2020\n"
     ]
    },
    {
     "data": {
      "text/plain": [
       "0.895443856716156"
      ]
     },
     "execution_count": 13,
     "metadata": {},
     "output_type": "execute_result"
    }
   ],
   "source": [
    "model.evaluate(X_test,y_test)[1]"
   ]
  },
  {
   "cell_type": "code",
   "execution_count": 14,
   "metadata": {
    "ExecuteTime": {
     "end_time": "2022-05-25T12:43:50.009252Z",
     "start_time": "2022-05-25T12:43:40.689753Z"
    }
   },
   "outputs": [
    {
     "name": "stdout",
     "output_type": "stream",
     "text": [
      "Epoch 1/20\n",
      "214/214 [==============================] - 1s 2ms/step - loss: 0.3850 - accuracy: 0.8788 - precision: 0.6248 - recall: 0.1260 - false_positives: 206.0000 - false_negatives: 2380.0000 - f1_score: 0.2263\n",
      "Epoch 2/20\n",
      "214/214 [==============================] - 0s 2ms/step - loss: 0.3535 - accuracy: 0.8823 - precision: 0.6443 - recall: 0.1730 - false_positives: 260.0000 - false_negatives: 2252.0000 - f1_score: 0.2263\n",
      "Epoch 3/20\n",
      "214/214 [==============================] - 0s 2ms/step - loss: 0.3459 - accuracy: 0.8832 - precision: 0.6478 - recall: 0.1851 - false_positives: 274.0000 - false_negatives: 2219.0000 - f1_score: 0.2263\n",
      "Epoch 4/20\n",
      "214/214 [==============================] - 0s 2ms/step - loss: 0.3446 - accuracy: 0.8828 - precision: 0.6402 - recall: 0.1862 - false_positives: 285.0000 - false_negatives: 2216.0000 - f1_score: 0.2263\n",
      "Epoch 5/20\n",
      "214/214 [==============================] - 0s 2ms/step - loss: 0.3445 - accuracy: 0.8827 - precision: 0.6420 - recall: 0.1818 - false_positives: 276.0000 - false_negatives: 2228.0000 - f1_score: 0.2263\n",
      "Epoch 6/20\n",
      "214/214 [==============================] - 0s 2ms/step - loss: 0.3449 - accuracy: 0.8826 - precision: 0.6365 - recall: 0.1858 - false_positives: 289.0000 - false_negatives: 2217.0000 - f1_score: 0.2263\n",
      "Epoch 7/20\n",
      "214/214 [==============================] - 0s 2ms/step - loss: 0.3417 - accuracy: 0.8833 - precision: 0.6411 - recall: 0.1935 - false_positives: 295.0000 - false_negatives: 2196.0000 - f1_score: 0.2263\n",
      "Epoch 8/20\n",
      "214/214 [==============================] - 0s 2ms/step - loss: 0.3424 - accuracy: 0.8831 - precision: 0.6432 - recall: 0.1880 - false_positives: 284.0000 - false_negatives: 2211.0000 - f1_score: 0.2263\n",
      "Epoch 9/20\n",
      "214/214 [==============================] - 0s 2ms/step - loss: 0.3416 - accuracy: 0.8843 - precision: 0.6560 - recall: 0.1954 - false_positives: 279.0000 - false_negatives: 2191.0000 - f1_score: 0.2263\n",
      "Epoch 10/20\n",
      "214/214 [==============================] - 0s 2ms/step - loss: 0.3430 - accuracy: 0.8837 - precision: 0.6512 - recall: 0.1906 - false_positives: 278.0000 - false_negatives: 2204.0000 - f1_score: 0.2263\n",
      "Epoch 11/20\n",
      "214/214 [==============================] - 0s 2ms/step - loss: 0.3432 - accuracy: 0.8830 - precision: 0.6441 - recall: 0.1855 - false_positives: 279.0000 - false_negatives: 2218.0000 - f1_score: 0.2263\n",
      "Epoch 12/20\n",
      "214/214 [==============================] - 0s 2ms/step - loss: 0.3422 - accuracy: 0.8833 - precision: 0.6436 - recall: 0.1917 - false_positives: 289.0000 - false_negatives: 2201.0000 - f1_score: 0.2263\n",
      "Epoch 13/20\n",
      "214/214 [==============================] - 0s 2ms/step - loss: 0.3400 - accuracy: 0.8832 - precision: 0.6438 - recall: 0.1899 - false_positives: 286.0000 - false_negatives: 2206.0000 - f1_score: 0.2263\n",
      "Epoch 14/20\n",
      "214/214 [==============================] - 0s 2ms/step - loss: 0.3414 - accuracy: 0.8835 - precision: 0.6525 - recall: 0.1862 - false_positives: 270.0000 - false_negatives: 2216.0000 - f1_score: 0.2263\n",
      "Epoch 15/20\n",
      "214/214 [==============================] - 0s 2ms/step - loss: 0.3419 - accuracy: 0.8843 - precision: 0.6587 - recall: 0.1928 - false_positives: 272.0000 - false_negatives: 2198.0000 - f1_score: 0.2263\n",
      "Epoch 16/20\n",
      "214/214 [==============================] - 0s 2ms/step - loss: 0.3410 - accuracy: 0.8837 - precision: 0.6531 - recall: 0.1880 - false_positives: 272.0000 - false_negatives: 2211.0000 - f1_score: 0.2263\n",
      "Epoch 17/20\n",
      "214/214 [==============================] - 0s 2ms/step - loss: 0.3425 - accuracy: 0.8825 - precision: 0.6337 - recall: 0.1880 - false_positives: 296.0000 - false_negatives: 2211.0000 - f1_score: 0.2263\n",
      "Epoch 18/20\n",
      "214/214 [==============================] - 0s 2ms/step - loss: 0.3413 - accuracy: 0.8843 - precision: 0.6607 - recall: 0.1910 - false_positives: 267.0000 - false_negatives: 2203.0000 - f1_score: 0.2263\n",
      "Epoch 19/20\n",
      "214/214 [==============================] - 0s 2ms/step - loss: 0.3425 - accuracy: 0.8832 - precision: 0.6460 - recall: 0.1877 - false_positives: 280.0000 - false_negatives: 2212.0000 - f1_score: 0.2263\n",
      "Epoch 20/20\n",
      "214/214 [==============================] - 0s 2ms/step - loss: 0.3396 - accuracy: 0.8838 - precision: 0.6521 - recall: 0.1921 - false_positives: 279.0000 - false_negatives: 2200.0000 - f1_score: 0.2263\n"
     ]
    }
   ],
   "source": [
    "df_dropna = pd.read_csv('onehotdropna_encoding_data.csv').drop('Unnamed: 0',axis=1)\n",
    "df_dropna\n",
    "\n",
    "feature = df_dropna.loc[:,:'pout_unknown']\n",
    "target = df_dropna['y']\n",
    "\n",
    "X = np.array(feature)\n",
    "y = np.array(target)\n",
    "\n",
    "X_train, X_test, y_train, y_test = train_test_split(X,y,test_size=0.3,random_state=0)\n",
    "\n",
    "model = Sequential()\n",
    "model.add(Dense(30,input_dim = len(feature.columns),activation='relu'))\n",
    "model.add(Dense(30,input_dim = len(feature.columns),activation='relu'))\n",
    "model.add(Dense(1,activation='sigmoid'))\n",
    "\n",
    "model.compile(loss='binary_crossentropy',optimizer = 'adam', metrics=['accuracy',tf.keras.metrics.Precision(name='precision')\n",
    "                          ,tf.keras.metrics.Recall(name='recall')\n",
    "                          ,tf.keras.metrics.FalsePositives(name='false_positives')\n",
    "                          ,tf.keras.metrics.FalseNegatives(name='false_negatives')\n",
    "                          ,tfa.metrics.F1Score(name='f1_score',num_classes=1)])\n",
    "history = model.fit(X_train,y_train,epochs=20,batch_size=100)"
   ]
  },
  {
   "cell_type": "code",
   "execution_count": 15,
   "metadata": {
    "ExecuteTime": {
     "end_time": "2022-05-25T12:43:50.182796Z",
     "start_time": "2022-05-25T12:43:50.011254Z"
    }
   },
   "outputs": [
    {
     "data": {
      "image/png": "[encoded data removed]",
      "text/plain": [
       "<Figure size 640x480 with 1 Axes>"
      ]
     },
     "metadata": {},
     "output_type": "display_data"
    }
   ],
   "source": [
    "plt.plot(history.history['recall'],label='recall')\n",
    "plt.plot(history.history['precision'],label='precision')\n",
    "plt.legend()\n",
    "plt.show()"
   ]
  }
 ],
 "metadata": {
  "hide_input": false,
  "kernelspec": {
   "display_name": "Python 3.9.13 64-bit",
   "language": "python",
   "name": "python3"
  },
  "language_info": {
   "codemirror_mode": {
    "name": "ipython",
    "version": 3
   },
   "file_extension": ".py",
   "mimetype": "text/x-python",
   "name": "python",
   "nbconvert_exporter": "python",
   "pygments_lexer": "ipython3",
   "version": "3.9.13"
  },
  "toc": {
   "base_numbering": 1,
   "nav_menu": {},
   "number_sections": true,
   "sideBar": true,
   "skip_h1_title": false,
   "title_cell": "Table of Contents",
   "title_sidebar": "Contents",
   "toc_cell": false,
   "toc_position": {},
   "toc_section_display": true,
   "toc_window_display": true
  },
  "varInspector": {
   "cols": {
    "lenName": 16,
    "lenType": 16,
    "lenVar": 40
   },
   "kernels_config": {
    "python": {
     "delete_cmd_postfix": "",
     "delete_cmd_prefix": "del ",
     "library": "var_list.py",
     "varRefreshCmd": "print(var_dic_list())"
    },
    "r": {
     "delete_cmd_postfix": ") ",
     "delete_cmd_prefix": "rm(",
     "library": "var_list.r",
     "varRefreshCmd": "cat(var_dic_list()) "
    }
   },
   "types_to_exclude": [
    "module",
    "function",
    "builtin_function_or_method",
    "instance",
    "_Feature"
   ],
   "window_display": false
  },
  "vscode": {
   "interpreter": {
    "hash": "6ee427d782589963e8c79a42b2f4f29109ef8f05f3a095294493fcedf31c2d3e"
   }
  }
 },
 "nbformat": 4,
 "nbformat_minor": 2
}
