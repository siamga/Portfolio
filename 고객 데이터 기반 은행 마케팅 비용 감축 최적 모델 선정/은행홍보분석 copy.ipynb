{
 "cells": [
  {
   "cell_type": "markdown",
   "id": "9b148bb2",
   "metadata": {},
   "source": [
    "# 데이터 속성\n",
    "\n",
    "## 은행 고객 데이터:\n",
    "'age', 'job', 'marital', 'education', 'default', 'housing', 'loan',\n",
    "       'contact', 'month', 'day_of_week', 'duration', 'campaign', 'pdays',\n",
    "       'previous', 'poutcome', 'emp.var.rate', 'cons.price.idx',\n",
    "       'cons.conf.idx', 'euribor3m', 'nr.employed', 'y'\n",
    "*1 - age = \n",
    "\n",
    "연령(숫자)\n",
    "\n",
    "*2 - job \n",
    "\n",
    "직업의 종류(카테고리: \"관리\",\"블루칼라\",\"기업가\",\"하녀\",\"관리\",\"은퇴\",\"자영업\",\"서비스\",\"학생 \",\"기술자\",\"실업자\",\"알 수 없음\")\n",
    "\n",
    "*3 - marital\n",
    "\n",
    "혼인 여부(범주: \"이혼\", \"기혼\", \"미혼\", \"모름\", 참고: \"이혼\"은 이혼 또는 사별을 의미함)\n",
    "\n",
    "*4 - education\n",
    "\n",
    "(카테고리: \"basic.4y\",\"basic.6y\",\"basic.9y\",\"high.school\",\"문맹\",\"professional.course\",\"university.degree\",\"알 수 없음\" )\n",
    "\n",
    "5 - default\n",
    "\n",
    "기본 신용이 있습니까? (범주: \"아니오\",\"예\",\"알 수 없음\")\n",
    "\n",
    "6 - housing\n",
    "\n",
    "주택 융자가 있습니까? (범주: \"아니오\",\"예\",\"알 수 없음\")\n",
    "\n",
    "7 - loan\n",
    "\n",
    "개인 대출이 있습니까? (범주: \"아니오\",\"예\",\"알 수 없음\")\n",
    "\n",
    "\n",
    "## 기타 속성\n",
    "\n",
    "*13 - pdays: \n",
    "\n",
    "이전 캠페인에서 클라이언트가 마지막으로 연락된 후 경과한 일 수(숫자, 999는 클라이언트가 이전에 연락되지 않았음을 의미함)\n",
    "\n",
    "*14 - previous: \n",
    "\n",
    "이 캠페인 이전에 이 클라이언트에 대해 수행된 컨택 수(숫자)\n",
    "\n",
    "*15 - poutcome: \n",
    "\n",
    "이전 마케팅 캠페인의 결과(범주: \"실패\",\"존재하지 않음\",\"성공\")\n",
    "\n",
    "\n",
    "\n",
    "## 타겟값\n",
    "\n",
    "21 - y - 고객이 정기 예금에 가입했습니까? (이진법: \"예\",\"아니요\")\n",
    "\n",
    "속성 값 누락: 일부 범주 속성에는 여러 개의 누락 값이 있으며 모두 \"알 수 없음\" 레이블로 코딩됩니다. 이러한 누락된 값은 가능한 클래스 레이블로 처리되거나 삭제 또는 대치 기술을 사용하여 처리될 수 있습니다.\n",
    "\n",
    "## 사용 데이터\n",
    "고객 데이터 + "
   ]
  },
  {
   "cell_type": "code",
   "execution_count": 1,
   "id": "f51631e2",
   "metadata": {
    "ExecuteTime": {
     "end_time": "2022-05-30T07:38:18.686071Z",
     "start_time": "2022-05-30T07:38:15.553876Z"
    }
   },
   "outputs": [],
   "source": [
    "import pandas as pd\n",
    "import matplotlib.pyplot as plt\n",
    "import seaborn as sns\n",
    "import numpy as np\n",
    "from sklearn.preprocessing import OneHotEncoder, LabelEncoder"
   ]
  },
  {
   "cell_type": "code",
   "execution_count": 2,
   "id": "e1a5548e",
   "metadata": {
    "ExecuteTime": {
     "end_time": "2022-05-30T07:38:18.982228Z",
     "start_time": "2022-05-30T07:38:18.690059Z"
    }
   },
   "outputs": [
    {
     "data": {
      "text/html": [
       "<div>\n",
       "<style scoped>\n",
       "    .dataframe tbody tr th:only-of-type {\n",
       "        vertical-align: middle;\n",
       "    }\n",
       "\n",
       "    .dataframe tbody tr th {\n",
       "        vertical-align: top;\n",
       "    }\n",
       "\n",
       "    .dataframe thead th {\n",
       "        text-align: right;\n",
       "    }\n",
       "</style>\n",
       "<table border=\"1\" class=\"dataframe\">\n",
       "  <thead>\n",
       "    <tr style=\"text-align: right;\">\n",
       "      <th></th>\n",
       "      <th>age</th>\n",
       "      <th>job</th>\n",
       "      <th>marital</th>\n",
       "      <th>education</th>\n",
       "      <th>default</th>\n",
       "      <th>housing</th>\n",
       "      <th>loan</th>\n",
       "      <th>contact</th>\n",
       "      <th>month</th>\n",
       "      <th>day_of_week</th>\n",
       "      <th>...</th>\n",
       "      <th>campaign</th>\n",
       "      <th>pdays</th>\n",
       "      <th>previous</th>\n",
       "      <th>poutcome</th>\n",
       "      <th>emp.var.rate</th>\n",
       "      <th>cons.price.idx</th>\n",
       "      <th>cons.conf.idx</th>\n",
       "      <th>euribor3m</th>\n",
       "      <th>nr.employed</th>\n",
       "      <th>y</th>\n",
       "    </tr>\n",
       "  </thead>\n",
       "  <tbody>\n",
       "    <tr>\n",
       "      <th>0</th>\n",
       "      <td>56</td>\n",
       "      <td>housemaid</td>\n",
       "      <td>married</td>\n",
       "      <td>basic.4y</td>\n",
       "      <td>no</td>\n",
       "      <td>no</td>\n",
       "      <td>no</td>\n",
       "      <td>telephone</td>\n",
       "      <td>may</td>\n",
       "      <td>mon</td>\n",
       "      <td>...</td>\n",
       "      <td>1</td>\n",
       "      <td>999</td>\n",
       "      <td>0</td>\n",
       "      <td>nonexistent</td>\n",
       "      <td>1.1</td>\n",
       "      <td>93.994</td>\n",
       "      <td>-36.4</td>\n",
       "      <td>4.857</td>\n",
       "      <td>5191.0</td>\n",
       "      <td>no</td>\n",
       "    </tr>\n",
       "    <tr>\n",
       "      <th>1</th>\n",
       "      <td>57</td>\n",
       "      <td>services</td>\n",
       "      <td>married</td>\n",
       "      <td>high.school</td>\n",
       "      <td>unknown</td>\n",
       "      <td>no</td>\n",
       "      <td>no</td>\n",
       "      <td>telephone</td>\n",
       "      <td>may</td>\n",
       "      <td>mon</td>\n",
       "      <td>...</td>\n",
       "      <td>1</td>\n",
       "      <td>999</td>\n",
       "      <td>0</td>\n",
       "      <td>nonexistent</td>\n",
       "      <td>1.1</td>\n",
       "      <td>93.994</td>\n",
       "      <td>-36.4</td>\n",
       "      <td>4.857</td>\n",
       "      <td>5191.0</td>\n",
       "      <td>no</td>\n",
       "    </tr>\n",
       "    <tr>\n",
       "      <th>2</th>\n",
       "      <td>37</td>\n",
       "      <td>services</td>\n",
       "      <td>married</td>\n",
       "      <td>high.school</td>\n",
       "      <td>no</td>\n",
       "      <td>yes</td>\n",
       "      <td>no</td>\n",
       "      <td>telephone</td>\n",
       "      <td>may</td>\n",
       "      <td>mon</td>\n",
       "      <td>...</td>\n",
       "      <td>1</td>\n",
       "      <td>999</td>\n",
       "      <td>0</td>\n",
       "      <td>nonexistent</td>\n",
       "      <td>1.1</td>\n",
       "      <td>93.994</td>\n",
       "      <td>-36.4</td>\n",
       "      <td>4.857</td>\n",
       "      <td>5191.0</td>\n",
       "      <td>no</td>\n",
       "    </tr>\n",
       "    <tr>\n",
       "      <th>3</th>\n",
       "      <td>40</td>\n",
       "      <td>admin.</td>\n",
       "      <td>married</td>\n",
       "      <td>basic.6y</td>\n",
       "      <td>no</td>\n",
       "      <td>no</td>\n",
       "      <td>no</td>\n",
       "      <td>telephone</td>\n",
       "      <td>may</td>\n",
       "      <td>mon</td>\n",
       "      <td>...</td>\n",
       "      <td>1</td>\n",
       "      <td>999</td>\n",
       "      <td>0</td>\n",
       "      <td>nonexistent</td>\n",
       "      <td>1.1</td>\n",
       "      <td>93.994</td>\n",
       "      <td>-36.4</td>\n",
       "      <td>4.857</td>\n",
       "      <td>5191.0</td>\n",
       "      <td>no</td>\n",
       "    </tr>\n",
       "    <tr>\n",
       "      <th>4</th>\n",
       "      <td>56</td>\n",
       "      <td>services</td>\n",
       "      <td>married</td>\n",
       "      <td>high.school</td>\n",
       "      <td>no</td>\n",
       "      <td>no</td>\n",
       "      <td>yes</td>\n",
       "      <td>telephone</td>\n",
       "      <td>may</td>\n",
       "      <td>mon</td>\n",
       "      <td>...</td>\n",
       "      <td>1</td>\n",
       "      <td>999</td>\n",
       "      <td>0</td>\n",
       "      <td>nonexistent</td>\n",
       "      <td>1.1</td>\n",
       "      <td>93.994</td>\n",
       "      <td>-36.4</td>\n",
       "      <td>4.857</td>\n",
       "      <td>5191.0</td>\n",
       "      <td>no</td>\n",
       "    </tr>\n",
       "    <tr>\n",
       "      <th>...</th>\n",
       "      <td>...</td>\n",
       "      <td>...</td>\n",
       "      <td>...</td>\n",
       "      <td>...</td>\n",
       "      <td>...</td>\n",
       "      <td>...</td>\n",
       "      <td>...</td>\n",
       "      <td>...</td>\n",
       "      <td>...</td>\n",
       "      <td>...</td>\n",
       "      <td>...</td>\n",
       "      <td>...</td>\n",
       "      <td>...</td>\n",
       "      <td>...</td>\n",
       "      <td>...</td>\n",
       "      <td>...</td>\n",
       "      <td>...</td>\n",
       "      <td>...</td>\n",
       "      <td>...</td>\n",
       "      <td>...</td>\n",
       "      <td>...</td>\n",
       "    </tr>\n",
       "    <tr>\n",
       "      <th>41183</th>\n",
       "      <td>73</td>\n",
       "      <td>retired</td>\n",
       "      <td>married</td>\n",
       "      <td>professional.course</td>\n",
       "      <td>no</td>\n",
       "      <td>yes</td>\n",
       "      <td>no</td>\n",
       "      <td>cellular</td>\n",
       "      <td>nov</td>\n",
       "      <td>fri</td>\n",
       "      <td>...</td>\n",
       "      <td>1</td>\n",
       "      <td>999</td>\n",
       "      <td>0</td>\n",
       "      <td>nonexistent</td>\n",
       "      <td>-1.1</td>\n",
       "      <td>94.767</td>\n",
       "      <td>-50.8</td>\n",
       "      <td>1.028</td>\n",
       "      <td>4963.6</td>\n",
       "      <td>yes</td>\n",
       "    </tr>\n",
       "    <tr>\n",
       "      <th>41184</th>\n",
       "      <td>46</td>\n",
       "      <td>blue-collar</td>\n",
       "      <td>married</td>\n",
       "      <td>professional.course</td>\n",
       "      <td>no</td>\n",
       "      <td>no</td>\n",
       "      <td>no</td>\n",
       "      <td>cellular</td>\n",
       "      <td>nov</td>\n",
       "      <td>fri</td>\n",
       "      <td>...</td>\n",
       "      <td>1</td>\n",
       "      <td>999</td>\n",
       "      <td>0</td>\n",
       "      <td>nonexistent</td>\n",
       "      <td>-1.1</td>\n",
       "      <td>94.767</td>\n",
       "      <td>-50.8</td>\n",
       "      <td>1.028</td>\n",
       "      <td>4963.6</td>\n",
       "      <td>no</td>\n",
       "    </tr>\n",
       "    <tr>\n",
       "      <th>41185</th>\n",
       "      <td>56</td>\n",
       "      <td>retired</td>\n",
       "      <td>married</td>\n",
       "      <td>university.degree</td>\n",
       "      <td>no</td>\n",
       "      <td>yes</td>\n",
       "      <td>no</td>\n",
       "      <td>cellular</td>\n",
       "      <td>nov</td>\n",
       "      <td>fri</td>\n",
       "      <td>...</td>\n",
       "      <td>2</td>\n",
       "      <td>999</td>\n",
       "      <td>0</td>\n",
       "      <td>nonexistent</td>\n",
       "      <td>-1.1</td>\n",
       "      <td>94.767</td>\n",
       "      <td>-50.8</td>\n",
       "      <td>1.028</td>\n",
       "      <td>4963.6</td>\n",
       "      <td>no</td>\n",
       "    </tr>\n",
       "    <tr>\n",
       "      <th>41186</th>\n",
       "      <td>44</td>\n",
       "      <td>technician</td>\n",
       "      <td>married</td>\n",
       "      <td>professional.course</td>\n",
       "      <td>no</td>\n",
       "      <td>no</td>\n",
       "      <td>no</td>\n",
       "      <td>cellular</td>\n",
       "      <td>nov</td>\n",
       "      <td>fri</td>\n",
       "      <td>...</td>\n",
       "      <td>1</td>\n",
       "      <td>999</td>\n",
       "      <td>0</td>\n",
       "      <td>nonexistent</td>\n",
       "      <td>-1.1</td>\n",
       "      <td>94.767</td>\n",
       "      <td>-50.8</td>\n",
       "      <td>1.028</td>\n",
       "      <td>4963.6</td>\n",
       "      <td>yes</td>\n",
       "    </tr>\n",
       "    <tr>\n",
       "      <th>41187</th>\n",
       "      <td>74</td>\n",
       "      <td>retired</td>\n",
       "      <td>married</td>\n",
       "      <td>professional.course</td>\n",
       "      <td>no</td>\n",
       "      <td>yes</td>\n",
       "      <td>no</td>\n",
       "      <td>cellular</td>\n",
       "      <td>nov</td>\n",
       "      <td>fri</td>\n",
       "      <td>...</td>\n",
       "      <td>3</td>\n",
       "      <td>999</td>\n",
       "      <td>1</td>\n",
       "      <td>failure</td>\n",
       "      <td>-1.1</td>\n",
       "      <td>94.767</td>\n",
       "      <td>-50.8</td>\n",
       "      <td>1.028</td>\n",
       "      <td>4963.6</td>\n",
       "      <td>no</td>\n",
       "    </tr>\n",
       "  </tbody>\n",
       "</table>\n",
       "<p>41188 rows × 21 columns</p>\n",
       "</div>"
      ],
      "text/plain": [
       "       age          job  marital            education  default housing loan  \\\n",
       "0       56    housemaid  married             basic.4y       no      no   no   \n",
       "1       57     services  married          high.school  unknown      no   no   \n",
       "2       37     services  married          high.school       no     yes   no   \n",
       "3       40       admin.  married             basic.6y       no      no   no   \n",
       "4       56     services  married          high.school       no      no  yes   \n",
       "...    ...          ...      ...                  ...      ...     ...  ...   \n",
       "41183   73      retired  married  professional.course       no     yes   no   \n",
       "41184   46  blue-collar  married  professional.course       no      no   no   \n",
       "41185   56      retired  married    university.degree       no     yes   no   \n",
       "41186   44   technician  married  professional.course       no      no   no   \n",
       "41187   74      retired  married  professional.course       no     yes   no   \n",
       "\n",
       "         contact month day_of_week  ...  campaign  pdays  previous  \\\n",
       "0      telephone   may         mon  ...         1    999         0   \n",
       "1      telephone   may         mon  ...         1    999         0   \n",
       "2      telephone   may         mon  ...         1    999         0   \n",
       "3      telephone   may         mon  ...         1    999         0   \n",
       "4      telephone   may         mon  ...         1    999         0   \n",
       "...          ...   ...         ...  ...       ...    ...       ...   \n",
       "41183   cellular   nov         fri  ...         1    999         0   \n",
       "41184   cellular   nov         fri  ...         1    999         0   \n",
       "41185   cellular   nov         fri  ...         2    999         0   \n",
       "41186   cellular   nov         fri  ...         1    999         0   \n",
       "41187   cellular   nov         fri  ...         3    999         1   \n",
       "\n",
       "          poutcome emp.var.rate  cons.price.idx  cons.conf.idx  euribor3m  \\\n",
       "0      nonexistent          1.1          93.994          -36.4      4.857   \n",
       "1      nonexistent          1.1          93.994          -36.4      4.857   \n",
       "2      nonexistent          1.1          93.994          -36.4      4.857   \n",
       "3      nonexistent          1.1          93.994          -36.4      4.857   \n",
       "4      nonexistent          1.1          93.994          -36.4      4.857   \n",
       "...            ...          ...             ...            ...        ...   \n",
       "41183  nonexistent         -1.1          94.767          -50.8      1.028   \n",
       "41184  nonexistent         -1.1          94.767          -50.8      1.028   \n",
       "41185  nonexistent         -1.1          94.767          -50.8      1.028   \n",
       "41186  nonexistent         -1.1          94.767          -50.8      1.028   \n",
       "41187      failure         -1.1          94.767          -50.8      1.028   \n",
       "\n",
       "       nr.employed    y  \n",
       "0           5191.0   no  \n",
       "1           5191.0   no  \n",
       "2           5191.0   no  \n",
       "3           5191.0   no  \n",
       "4           5191.0   no  \n",
       "...            ...  ...  \n",
       "41183       4963.6  yes  \n",
       "41184       4963.6   no  \n",
       "41185       4963.6   no  \n",
       "41186       4963.6  yes  \n",
       "41187       4963.6   no  \n",
       "\n",
       "[41188 rows x 21 columns]"
      ]
     },
     "execution_count": 2,
     "metadata": {},
     "output_type": "execute_result"
    }
   ],
   "source": [
    "df_raw = pd.read_csv('bank-additional-full.csv',sep=';')\n",
    "# .drop('Unnamed: 0',axis=1)\n",
    "\n",
    "list = ['age', 'job', 'marital', 'education', 'default', 'housing', 'loan',\n",
    "       'contact', 'month', 'day_of_week', 'duration', 'campaign', 'pdays',\n",
    "       'previous', 'poutcome', 'emp.var.rate', 'cons.price.idx',\n",
    "       'cons.conf.idx', 'euribor3m', 'nr.employed', 'y']\n",
    "\n",
    "\n",
    "df_raw"
   ]
  },
  {
   "cell_type": "markdown",
   "id": "234f5a0f",
   "metadata": {},
   "source": [
    "# 탐색적 데이터 분석"
   ]
  },
  {
   "cell_type": "code",
   "execution_count": 3,
   "id": "0b4484ed",
   "metadata": {
    "ExecuteTime": {
     "end_time": "2022-05-30T07:38:52.813841Z",
     "start_time": "2022-05-30T07:38:18.987216Z"
    }
   },
   "outputs": [
    {
     "name": "stderr",
     "output_type": "stream",
     "text": [
      "C:\\Users\\LG\\AppData\\Local\\Programs\\Python\\Python39\\lib\\site-packages\\seaborn\\_decorators.py:36: FutureWarning: Pass the following variable as a keyword arg: x. From version 0.12, the only valid positional argument will be `data`, and passing other arguments without an explicit keyword will result in an error or misinterpretation.\n",
      "  warnings.warn(\n"
     ]
    },
    {
     "data": {
      "image/png": "[encoded data removed]",
      "text/plain": [
       "<Figure size 432x288 with 1 Axes>"
      ]
     },
     "metadata": {
      "needs_background": "light"
     },
     "output_type": "display_data"
    },
    {
     "name": "stdout",
     "output_type": "stream",
     "text": [
      "31    1947\n",
      "32    1846\n",
      "33    1833\n",
      "36    1780\n",
      "35    1759\n",
      "      ... \n",
      "89       2\n",
      "91       2\n",
      "94       1\n",
      "87       1\n",
      "95       1\n",
      "Name: age, Length: 78, dtype: int64\n",
      "31    0.047271\n",
      "32    0.044819\n",
      "33    0.044503\n",
      "36    0.043216\n",
      "35    0.042707\n",
      "        ...   \n",
      "89    0.000049\n",
      "91    0.000049\n",
      "94    0.000024\n",
      "87    0.000024\n",
      "95    0.000024\n",
      "Name: age, Length: 78, dtype: float64\n"
     ]
    },
    {
     "name": "stderr",
     "output_type": "stream",
     "text": [
      "C:\\Users\\LG\\AppData\\Local\\Programs\\Python\\Python39\\lib\\site-packages\\seaborn\\_decorators.py:36: FutureWarning: Pass the following variable as a keyword arg: x. From version 0.12, the only valid positional argument will be `data`, and passing other arguments without an explicit keyword will result in an error or misinterpretation.\n",
      "  warnings.warn(\n"
     ]
    },
    {
     "data": {
      "image/png": "[encoded data removed]",
      "text/plain": [
       "<Figure size 432x288 with 1 Axes>"
      ]
     },
     "metadata": {
      "needs_background": "light"
     },
     "output_type": "display_data"
    },
    {
     "name": "stdout",
     "output_type": "stream",
     "text": [
      "admin.           10422\n",
      "blue-collar       9254\n",
      "technician        6743\n",
      "services          3969\n",
      "management        2924\n",
      "retired           1720\n",
      "entrepreneur      1456\n",
      "self-employed     1421\n",
      "housemaid         1060\n",
      "unemployed        1014\n",
      "student            875\n",
      "unknown            330\n",
      "Name: job, dtype: int64\n",
      "admin.           0.253035\n",
      "blue-collar      0.224677\n",
      "technician       0.163713\n",
      "services         0.096363\n",
      "management       0.070992\n",
      "retired          0.041760\n",
      "entrepreneur     0.035350\n",
      "self-employed    0.034500\n",
      "housemaid        0.025736\n",
      "unemployed       0.024619\n",
      "student          0.021244\n",
      "unknown          0.008012\n",
      "Name: job, dtype: float64\n"
     ]
    },
    {
     "name": "stderr",
     "output_type": "stream",
     "text": [
      "C:\\Users\\LG\\AppData\\Local\\Programs\\Python\\Python39\\lib\\site-packages\\seaborn\\_decorators.py:36: FutureWarning: Pass the following variable as a keyword arg: x. From version 0.12, the only valid positional argument will be `data`, and passing other arguments without an explicit keyword will result in an error or misinterpretation.\n",
      "  warnings.warn(\n"
     ]
    },
    {
     "data": {
      "image/png": "[encoded data removed]",
      "text/plain": [
       "<Figure size 432x288 with 1 Axes>"
      ]
     },
     "metadata": {
      "needs_background": "light"
     },
     "output_type": "display_data"
    },
    {
     "name": "stdout",
     "output_type": "stream",
     "text": [
      "married     24928\n",
      "single      11568\n",
      "divorced     4612\n",
      "unknown        80\n",
      "Name: marital, dtype: int64\n",
      "married     0.605225\n",
      "single      0.280859\n",
      "divorced    0.111974\n",
      "unknown     0.001942\n",
      "Name: marital, dtype: float64\n"
     ]
    },
    {
     "name": "stderr",
     "output_type": "stream",
     "text": [
      "C:\\Users\\LG\\AppData\\Local\\Programs\\Python\\Python39\\lib\\site-packages\\seaborn\\_decorators.py:36: FutureWarning: Pass the following variable as a keyword arg: x. From version 0.12, the only valid positional argument will be `data`, and passing other arguments without an explicit keyword will result in an error or misinterpretation.\n",
      "  warnings.warn(\n"
     ]
    },
    {
     "data": {
      "image/png": "[encoded data removed]",
      "text/plain": [
       "<Figure size 432x288 with 1 Axes>"
      ]
     },
     "metadata": {
      "needs_background": "light"
     },
     "output_type": "display_data"
    },
    {
     "name": "stdout",
     "output_type": "stream",
     "text": [
      "university.degree      12168\n",
      "high.school             9515\n",
      "basic.9y                6045\n",
      "professional.course     5243\n",
      "basic.4y                4176\n",
      "basic.6y                2292\n",
      "unknown                 1731\n",
      "illiterate                18\n",
      "Name: education, dtype: int64\n",
      "university.degree      0.295426\n",
      "high.school            0.231014\n",
      "basic.9y               0.146766\n",
      "professional.course    0.127294\n",
      "basic.4y               0.101389\n",
      "basic.6y               0.055647\n",
      "unknown                0.042027\n",
      "illiterate             0.000437\n",
      "Name: education, dtype: float64\n"
     ]
    },
    {
     "name": "stderr",
     "output_type": "stream",
     "text": [
      "C:\\Users\\LG\\AppData\\Local\\Programs\\Python\\Python39\\lib\\site-packages\\seaborn\\_decorators.py:36: FutureWarning: Pass the following variable as a keyword arg: x. From version 0.12, the only valid positional argument will be `data`, and passing other arguments without an explicit keyword will result in an error or misinterpretation.\n",
      "  warnings.warn(\n"
     ]
    },
    {
     "data": {
      "image/png": "[encoded data removed]",
      "text/plain": [
       "<Figure size 432x288 with 1 Axes>"
      ]
     },
     "metadata": {
      "needs_background": "light"
     },
     "output_type": "display_data"
    },
    {
     "name": "stdout",
     "output_type": "stream",
     "text": [
      "no         32588\n",
      "unknown     8597\n",
      "yes            3\n",
      "Name: default, dtype: int64\n",
      "no         0.791201\n",
      "unknown    0.208726\n",
      "yes        0.000073\n",
      "Name: default, dtype: float64\n"
     ]
    },
    {
     "name": "stderr",
     "output_type": "stream",
     "text": [
      "C:\\Users\\LG\\AppData\\Local\\Programs\\Python\\Python39\\lib\\site-packages\\seaborn\\_decorators.py:36: FutureWarning: Pass the following variable as a keyword arg: x. From version 0.12, the only valid positional argument will be `data`, and passing other arguments without an explicit keyword will result in an error or misinterpretation.\n",
      "  warnings.warn(\n"
     ]
    },
    {
     "data": {
      "image/png": "[encoded data removed]",
      "text/plain": [
       "<Figure size 432x288 with 1 Axes>"
      ]
     },
     "metadata": {
      "needs_background": "light"
     },
     "output_type": "display_data"
    },
    {
     "name": "stdout",
     "output_type": "stream",
     "text": [
      "yes        21576\n",
      "no         18622\n",
      "unknown      990\n",
      "Name: housing, dtype: int64\n",
      "yes        0.523842\n",
      "no         0.452122\n",
      "unknown    0.024036\n",
      "Name: housing, dtype: float64\n"
     ]
    },
    {
     "name": "stderr",
     "output_type": "stream",
     "text": [
      "C:\\Users\\LG\\AppData\\Local\\Programs\\Python\\Python39\\lib\\site-packages\\seaborn\\_decorators.py:36: FutureWarning: Pass the following variable as a keyword arg: x. From version 0.12, the only valid positional argument will be `data`, and passing other arguments without an explicit keyword will result in an error or misinterpretation.\n",
      "  warnings.warn(\n"
     ]
    },
    {
     "data": {
      "image/png": "[encoded data removed]",
      "text/plain": [
       "<Figure size 432x288 with 1 Axes>"
      ]
     },
     "metadata": {
      "needs_background": "light"
     },
     "output_type": "display_data"
    },
    {
     "name": "stdout",
     "output_type": "stream",
     "text": [
      "no         33950\n",
      "yes         6248\n",
      "unknown      990\n",
      "Name: loan, dtype: int64\n",
      "no         0.824269\n",
      "yes        0.151695\n",
      "unknown    0.024036\n",
      "Name: loan, dtype: float64\n"
     ]
    },
    {
     "name": "stderr",
     "output_type": "stream",
     "text": [
      "C:\\Users\\LG\\AppData\\Local\\Programs\\Python\\Python39\\lib\\site-packages\\seaborn\\_decorators.py:36: FutureWarning: Pass the following variable as a keyword arg: x. From version 0.12, the only valid positional argument will be `data`, and passing other arguments without an explicit keyword will result in an error or misinterpretation.\n",
      "  warnings.warn(\n"
     ]
    },
    {
     "data": {
      "image/png": "[encoded data removed]",
      "text/plain": [
       "<Figure size 432x288 with 1 Axes>"
      ]
     },
     "metadata": {
      "needs_background": "light"
     },
     "output_type": "display_data"
    },
    {
     "name": "stderr",
     "output_type": "stream",
     "text": [
      "C:\\Users\\LG\\AppData\\Local\\Programs\\Python\\Python39\\lib\\site-packages\\seaborn\\_decorators.py:36: FutureWarning: Pass the following variable as a keyword arg: x. From version 0.12, the only valid positional argument will be `data`, and passing other arguments without an explicit keyword will result in an error or misinterpretation.\n",
      "  warnings.warn(\n"
     ]
    },
    {
     "name": "stdout",
     "output_type": "stream",
     "text": [
      "cellular     26144\n",
      "telephone    15044\n",
      "Name: contact, dtype: int64\n",
      "cellular     0.634748\n",
      "telephone    0.365252\n",
      "Name: contact, dtype: float64\n"
     ]
    },
    {
     "data": {
      "image/png": "[encoded data removed]",
      "text/plain": [
       "<Figure size 432x288 with 1 Axes>"
      ]
     },
     "metadata": {
      "needs_background": "light"
     },
     "output_type": "display_data"
    },
    {
     "name": "stdout",
     "output_type": "stream",
     "text": [
      "may    13769\n",
      "jul     7174\n",
      "aug     6178\n",
      "jun     5318\n",
      "nov     4101\n",
      "apr     2632\n",
      "oct      718\n",
      "sep      570\n",
      "mar      546\n",
      "dec      182\n",
      "Name: month, dtype: int64\n",
      "may    0.334296\n",
      "jul    0.174177\n",
      "aug    0.149995\n",
      "jun    0.129115\n",
      "nov    0.099568\n",
      "apr    0.063902\n",
      "oct    0.017432\n",
      "sep    0.013839\n",
      "mar    0.013256\n",
      "dec    0.004419\n",
      "Name: month, dtype: float64\n"
     ]
    },
    {
     "name": "stderr",
     "output_type": "stream",
     "text": [
      "C:\\Users\\LG\\AppData\\Local\\Programs\\Python\\Python39\\lib\\site-packages\\seaborn\\_decorators.py:36: FutureWarning: Pass the following variable as a keyword arg: x. From version 0.12, the only valid positional argument will be `data`, and passing other arguments without an explicit keyword will result in an error or misinterpretation.\n",
      "  warnings.warn(\n"
     ]
    },
    {
     "data": {
      "image/png": "[encoded data removed]",
      "text/plain": [
       "<Figure size 432x288 with 1 Axes>"
      ]
     },
     "metadata": {
      "needs_background": "light"
     },
     "output_type": "display_data"
    },
    {
     "name": "stdout",
     "output_type": "stream",
     "text": [
      "thu    8623\n",
      "mon    8514\n",
      "wed    8134\n",
      "tue    8090\n",
      "fri    7827\n",
      "Name: day_of_week, dtype: int64\n",
      "thu    0.209357\n",
      "mon    0.206711\n",
      "wed    0.197485\n",
      "tue    0.196416\n",
      "fri    0.190031\n",
      "Name: day_of_week, dtype: float64\n"
     ]
    },
    {
     "name": "stderr",
     "output_type": "stream",
     "text": [
      "C:\\Users\\LG\\AppData\\Local\\Programs\\Python\\Python39\\lib\\site-packages\\seaborn\\_decorators.py:36: FutureWarning: Pass the following variable as a keyword arg: x. From version 0.12, the only valid positional argument will be `data`, and passing other arguments without an explicit keyword will result in an error or misinterpretation.\n",
      "  warnings.warn(\n"
     ]
    },
    {
     "data": {
      "image/png": "[encoded data removed]",
      "text/plain": [
       "<Figure size 432x288 with 1 Axes>"
      ]
     },
     "metadata": {
      "needs_background": "light"
     },
     "output_type": "display_data"
    },
    {
     "name": "stdout",
     "output_type": "stream",
     "text": [
      "90      170\n",
      "85      170\n",
      "136     168\n",
      "73      167\n",
      "124     164\n",
      "       ... \n",
      "1569      1\n",
      "1053      1\n",
      "1263      1\n",
      "1169      1\n",
      "1868      1\n",
      "Name: duration, Length: 1544, dtype: int64\n",
      "90      0.004127\n",
      "85      0.004127\n",
      "136     0.004079\n",
      "73      0.004055\n",
      "124     0.003982\n",
      "          ...   \n",
      "1569    0.000024\n",
      "1053    0.000024\n",
      "1263    0.000024\n",
      "1169    0.000024\n",
      "1868    0.000024\n",
      "Name: duration, Length: 1544, dtype: float64\n"
     ]
    },
    {
     "name": "stderr",
     "output_type": "stream",
     "text": [
      "C:\\Users\\LG\\AppData\\Local\\Programs\\Python\\Python39\\lib\\site-packages\\seaborn\\_decorators.py:36: FutureWarning: Pass the following variable as a keyword arg: x. From version 0.12, the only valid positional argument will be `data`, and passing other arguments without an explicit keyword will result in an error or misinterpretation.\n",
      "  warnings.warn(\n"
     ]
    },
    {
     "data": {
      "image/png": "[encoded data removed]",
      "text/plain": [
       "<Figure size 432x288 with 1 Axes>"
      ]
     },
     "metadata": {
      "needs_background": "light"
     },
     "output_type": "display_data"
    },
    {
     "name": "stdout",
     "output_type": "stream",
     "text": [
      "1     17642\n",
      "2     10570\n",
      "3      5341\n",
      "4      2651\n",
      "5      1599\n",
      "6       979\n",
      "7       629\n",
      "8       400\n",
      "9       283\n",
      "10      225\n",
      "11      177\n",
      "12      125\n",
      "13       92\n",
      "14       69\n",
      "17       58\n",
      "16       51\n",
      "15       51\n",
      "18       33\n",
      "20       30\n",
      "19       26\n",
      "21       24\n",
      "22       17\n",
      "23       16\n",
      "24       15\n",
      "27       11\n",
      "29       10\n",
      "28        8\n",
      "26        8\n",
      "25        8\n",
      "31        7\n",
      "30        7\n",
      "35        5\n",
      "32        4\n",
      "33        4\n",
      "34        3\n",
      "42        2\n",
      "40        2\n",
      "43        2\n",
      "56        1\n",
      "39        1\n",
      "41        1\n",
      "37        1\n",
      "Name: campaign, dtype: int64\n",
      "1     0.428329\n",
      "2     0.256628\n",
      "3     0.129674\n",
      "4     0.064363\n",
      "5     0.038822\n",
      "6     0.023769\n",
      "7     0.015271\n",
      "8     0.009712\n",
      "9     0.006871\n",
      "10    0.005463\n",
      "11    0.004297\n",
      "12    0.003035\n",
      "13    0.002234\n",
      "14    0.001675\n",
      "17    0.001408\n",
      "16    0.001238\n",
      "15    0.001238\n",
      "18    0.000801\n",
      "20    0.000728\n",
      "19    0.000631\n",
      "21    0.000583\n",
      "22    0.000413\n",
      "23    0.000388\n",
      "24    0.000364\n",
      "27    0.000267\n",
      "29    0.000243\n",
      "28    0.000194\n",
      "26    0.000194\n",
      "25    0.000194\n",
      "31    0.000170\n",
      "30    0.000170\n",
      "35    0.000121\n",
      "32    0.000097\n",
      "33    0.000097\n",
      "34    0.000073\n",
      "42    0.000049\n",
      "40    0.000049\n",
      "43    0.000049\n",
      "56    0.000024\n",
      "39    0.000024\n",
      "41    0.000024\n",
      "37    0.000024\n",
      "Name: campaign, dtype: float64\n"
     ]
    },
    {
     "name": "stderr",
     "output_type": "stream",
     "text": [
      "C:\\Users\\LG\\AppData\\Local\\Programs\\Python\\Python39\\lib\\site-packages\\seaborn\\_decorators.py:36: FutureWarning: Pass the following variable as a keyword arg: x. From version 0.12, the only valid positional argument will be `data`, and passing other arguments without an explicit keyword will result in an error or misinterpretation.\n",
      "  warnings.warn(\n"
     ]
    },
    {
     "data": {
      "image/png": "[encoded data removed]",
      "text/plain": [
       "<Figure size 432x288 with 1 Axes>"
      ]
     },
     "metadata": {
      "needs_background": "light"
     },
     "output_type": "display_data"
    },
    {
     "name": "stdout",
     "output_type": "stream",
     "text": [
      "999    39673\n",
      "3        439\n",
      "6        412\n",
      "4        118\n",
      "9         64\n",
      "2         61\n",
      "7         60\n",
      "12        58\n",
      "10        52\n",
      "5         46\n",
      "13        36\n",
      "11        28\n",
      "1         26\n",
      "15        24\n",
      "14        20\n",
      "8         18\n",
      "0         15\n",
      "16        11\n",
      "17         8\n",
      "18         7\n",
      "22         3\n",
      "19         3\n",
      "21         2\n",
      "25         1\n",
      "26         1\n",
      "27         1\n",
      "20         1\n",
      "Name: pdays, dtype: int64\n",
      "999    0.963217\n",
      "3      0.010658\n",
      "6      0.010003\n",
      "4      0.002865\n",
      "9      0.001554\n",
      "2      0.001481\n",
      "7      0.001457\n",
      "12     0.001408\n",
      "10     0.001263\n",
      "5      0.001117\n",
      "13     0.000874\n",
      "11     0.000680\n",
      "1      0.000631\n",
      "15     0.000583\n",
      "14     0.000486\n",
      "8      0.000437\n",
      "0      0.000364\n",
      "16     0.000267\n",
      "17     0.000194\n",
      "18     0.000170\n",
      "22     0.000073\n",
      "19     0.000073\n",
      "21     0.000049\n",
      "25     0.000024\n",
      "26     0.000024\n",
      "27     0.000024\n",
      "20     0.000024\n",
      "Name: pdays, dtype: float64\n"
     ]
    },
    {
     "name": "stderr",
     "output_type": "stream",
     "text": [
      "C:\\Users\\LG\\AppData\\Local\\Programs\\Python\\Python39\\lib\\site-packages\\seaborn\\_decorators.py:36: FutureWarning: Pass the following variable as a keyword arg: x. From version 0.12, the only valid positional argument will be `data`, and passing other arguments without an explicit keyword will result in an error or misinterpretation.\n",
      "  warnings.warn(\n"
     ]
    },
    {
     "data": {
      "image/png": "[encoded data removed]",
      "text/plain": [
       "<Figure size 432x288 with 1 Axes>"
      ]
     },
     "metadata": {
      "needs_background": "light"
     },
     "output_type": "display_data"
    },
    {
     "name": "stdout",
     "output_type": "stream",
     "text": [
      "0    35563\n",
      "1     4561\n",
      "2      754\n",
      "3      216\n",
      "4       70\n",
      "5       18\n",
      "6        5\n",
      "7        1\n",
      "Name: previous, dtype: int64\n",
      "0    0.863431\n",
      "1    0.110736\n",
      "2    0.018306\n",
      "3    0.005244\n",
      "4    0.001700\n",
      "5    0.000437\n",
      "6    0.000121\n",
      "7    0.000024\n",
      "Name: previous, dtype: float64\n"
     ]
    },
    {
     "name": "stderr",
     "output_type": "stream",
     "text": [
      "C:\\Users\\LG\\AppData\\Local\\Programs\\Python\\Python39\\lib\\site-packages\\seaborn\\_decorators.py:36: FutureWarning: Pass the following variable as a keyword arg: x. From version 0.12, the only valid positional argument will be `data`, and passing other arguments without an explicit keyword will result in an error or misinterpretation.\n",
      "  warnings.warn(\n"
     ]
    },
    {
     "data": {
      "image/png": "[encoded data removed]",
      "text/plain": [
       "<Figure size 432x288 with 1 Axes>"
      ]
     },
     "metadata": {
      "needs_background": "light"
     },
     "output_type": "display_data"
    },
    {
     "name": "stdout",
     "output_type": "stream",
     "text": [
      "nonexistent    35563\n",
      "failure         4252\n",
      "success         1373\n",
      "Name: poutcome, dtype: int64\n",
      "nonexistent    0.863431\n",
      "failure        0.103234\n",
      "success        0.033335\n",
      "Name: poutcome, dtype: float64\n"
     ]
    },
    {
     "name": "stderr",
     "output_type": "stream",
     "text": [
      "C:\\Users\\LG\\AppData\\Local\\Programs\\Python\\Python39\\lib\\site-packages\\seaborn\\_decorators.py:36: FutureWarning: Pass the following variable as a keyword arg: x. From version 0.12, the only valid positional argument will be `data`, and passing other arguments without an explicit keyword will result in an error or misinterpretation.\n",
      "  warnings.warn(\n"
     ]
    },
    {
     "data": {
      "image/png": "[encoded data removed]",
      "text/plain": [
       "<Figure size 432x288 with 1 Axes>"
      ]
     },
     "metadata": {
      "needs_background": "light"
     },
     "output_type": "display_data"
    },
    {
     "name": "stdout",
     "output_type": "stream",
     "text": [
      " 1.4    16234\n",
      "-1.8     9184\n",
      " 1.1     7763\n",
      "-0.1     3683\n",
      "-2.9     1663\n",
      "-3.4     1071\n",
      "-1.7      773\n",
      "-1.1      635\n",
      "-3.0      172\n",
      "-0.2       10\n",
      "Name: emp.var.rate, dtype: int64\n",
      " 1.4    0.394144\n",
      "-1.8    0.222978\n",
      " 1.1    0.188477\n",
      "-0.1    0.089419\n",
      "-2.9    0.040376\n",
      "-3.4    0.026003\n",
      "-1.7    0.018768\n",
      "-1.1    0.015417\n",
      "-3.0    0.004176\n",
      "-0.2    0.000243\n",
      "Name: emp.var.rate, dtype: float64\n"
     ]
    },
    {
     "name": "stderr",
     "output_type": "stream",
     "text": [
      "C:\\Users\\LG\\AppData\\Local\\Programs\\Python\\Python39\\lib\\site-packages\\seaborn\\_decorators.py:36: FutureWarning: Pass the following variable as a keyword arg: x. From version 0.12, the only valid positional argument will be `data`, and passing other arguments without an explicit keyword will result in an error or misinterpretation.\n",
      "  warnings.warn(\n"
     ]
    },
    {
     "data": {
      "image/png": "[encoded data removed]",
      "text/plain": [
       "<Figure size 432x288 with 1 Axes>"
      ]
     },
     "metadata": {
      "needs_background": "light"
     },
     "output_type": "display_data"
    },
    {
     "name": "stdout",
     "output_type": "stream",
     "text": [
      "93.994    7763\n",
      "93.918    6685\n",
      "92.893    5794\n",
      "93.444    5175\n",
      "94.465    4374\n",
      "93.200    3616\n",
      "93.075    2458\n",
      "92.201     770\n",
      "92.963     715\n",
      "92.431     447\n",
      "92.649     357\n",
      "94.215     311\n",
      "94.199     303\n",
      "92.843     282\n",
      "92.379     267\n",
      "93.369     264\n",
      "94.027     233\n",
      "94.055     229\n",
      "93.876     212\n",
      "94.601     204\n",
      "92.469     178\n",
      "93.749     174\n",
      "92.713     172\n",
      "94.767     128\n",
      "93.798      67\n",
      "92.756      10\n",
      "Name: cons.price.idx, dtype: int64\n",
      "93.994    0.188477\n",
      "93.918    0.162305\n",
      "92.893    0.140672\n",
      "93.444    0.125643\n",
      "94.465    0.106196\n",
      "93.200    0.087793\n",
      "93.075    0.059678\n",
      "92.201    0.018695\n",
      "92.963    0.017359\n",
      "92.431    0.010853\n",
      "92.649    0.008668\n",
      "94.215    0.007551\n",
      "94.199    0.007357\n",
      "92.843    0.006847\n",
      "92.379    0.006482\n",
      "93.369    0.006410\n",
      "94.027    0.005657\n",
      "94.055    0.005560\n",
      "93.876    0.005147\n",
      "94.601    0.004953\n",
      "92.469    0.004322\n",
      "93.749    0.004225\n",
      "92.713    0.004176\n",
      "94.767    0.003108\n",
      "93.798    0.001627\n",
      "92.756    0.000243\n",
      "Name: cons.price.idx, dtype: float64\n"
     ]
    },
    {
     "name": "stderr",
     "output_type": "stream",
     "text": [
      "C:\\Users\\LG\\AppData\\Local\\Programs\\Python\\Python39\\lib\\site-packages\\seaborn\\_decorators.py:36: FutureWarning: Pass the following variable as a keyword arg: x. From version 0.12, the only valid positional argument will be `data`, and passing other arguments without an explicit keyword will result in an error or misinterpretation.\n",
      "  warnings.warn(\n"
     ]
    },
    {
     "data": {
      "image/png": "[encoded data removed]",
      "text/plain": [
       "<Figure size 432x288 with 1 Axes>"
      ]
     },
     "metadata": {
      "needs_background": "light"
     },
     "output_type": "display_data"
    },
    {
     "name": "stdout",
     "output_type": "stream",
     "text": [
      "-36.4    7763\n",
      "-42.7    6685\n",
      "-46.2    5794\n",
      "-36.1    5175\n",
      "-41.8    4374\n",
      "-42.0    3616\n",
      "-47.1    2458\n",
      "-31.4     770\n",
      "-40.8     715\n",
      "-26.9     447\n",
      "-30.1     357\n",
      "-40.3     311\n",
      "-37.5     303\n",
      "-50.0     282\n",
      "-29.8     267\n",
      "-34.8     264\n",
      "-38.3     233\n",
      "-39.8     229\n",
      "-40.0     212\n",
      "-49.5     204\n",
      "-33.6     178\n",
      "-34.6     174\n",
      "-33.0     172\n",
      "-50.8     128\n",
      "-40.4      67\n",
      "-45.9      10\n",
      "Name: cons.conf.idx, dtype: int64\n",
      "-36.4    0.188477\n",
      "-42.7    0.162305\n",
      "-46.2    0.140672\n",
      "-36.1    0.125643\n",
      "-41.8    0.106196\n",
      "-42.0    0.087793\n",
      "-47.1    0.059678\n",
      "-31.4    0.018695\n",
      "-40.8    0.017359\n",
      "-26.9    0.010853\n",
      "-30.1    0.008668\n",
      "-40.3    0.007551\n",
      "-37.5    0.007357\n",
      "-50.0    0.006847\n",
      "-29.8    0.006482\n",
      "-34.8    0.006410\n",
      "-38.3    0.005657\n",
      "-39.8    0.005560\n",
      "-40.0    0.005147\n",
      "-49.5    0.004953\n",
      "-33.6    0.004322\n",
      "-34.6    0.004225\n",
      "-33.0    0.004176\n",
      "-50.8    0.003108\n",
      "-40.4    0.001627\n",
      "-45.9    0.000243\n",
      "Name: cons.conf.idx, dtype: float64\n"
     ]
    },
    {
     "name": "stderr",
     "output_type": "stream",
     "text": [
      "C:\\Users\\LG\\AppData\\Local\\Programs\\Python\\Python39\\lib\\site-packages\\seaborn\\_decorators.py:36: FutureWarning: Pass the following variable as a keyword arg: x. From version 0.12, the only valid positional argument will be `data`, and passing other arguments without an explicit keyword will result in an error or misinterpretation.\n",
      "  warnings.warn(\n"
     ]
    },
    {
     "data": {
      "image/png": "[encoded data removed]",
      "text/plain": [
       "<Figure size 432x288 with 1 Axes>"
      ]
     },
     "metadata": {
      "needs_background": "light"
     },
     "output_type": "display_data"
    },
    {
     "name": "stdout",
     "output_type": "stream",
     "text": [
      "4.857    2868\n",
      "4.962    2613\n",
      "4.963    2487\n",
      "4.961    1902\n",
      "4.856    1210\n",
      "         ... \n",
      "3.853       1\n",
      "3.901       1\n",
      "0.969       1\n",
      "0.956       1\n",
      "3.669       1\n",
      "Name: euribor3m, Length: 316, dtype: int64\n",
      "4.857    0.069632\n",
      "4.962    0.063441\n",
      "4.963    0.060382\n",
      "4.961    0.046178\n",
      "4.856    0.029377\n",
      "           ...   \n",
      "3.853    0.000024\n",
      "3.901    0.000024\n",
      "0.969    0.000024\n",
      "0.956    0.000024\n",
      "3.669    0.000024\n",
      "Name: euribor3m, Length: 316, dtype: float64\n"
     ]
    },
    {
     "name": "stderr",
     "output_type": "stream",
     "text": [
      "C:\\Users\\LG\\AppData\\Local\\Programs\\Python\\Python39\\lib\\site-packages\\seaborn\\_decorators.py:36: FutureWarning: Pass the following variable as a keyword arg: x. From version 0.12, the only valid positional argument will be `data`, and passing other arguments without an explicit keyword will result in an error or misinterpretation.\n",
      "  warnings.warn(\n"
     ]
    },
    {
     "data": {
      "image/png": "[encoded data removed]",
      "text/plain": [
       "<Figure size 432x288 with 1 Axes>"
      ]
     },
     "metadata": {
      "needs_background": "light"
     },
     "output_type": "display_data"
    },
    {
     "name": "stdout",
     "output_type": "stream",
     "text": [
      "5228.1    16234\n",
      "5099.1     8534\n",
      "5191.0     7763\n",
      "5195.8     3683\n",
      "5076.2     1663\n",
      "5017.5     1071\n",
      "4991.6      773\n",
      "5008.7      650\n",
      "4963.6      635\n",
      "5023.5      172\n",
      "5176.3       10\n",
      "Name: nr.employed, dtype: int64\n",
      "5228.1    0.394144\n",
      "5099.1    0.207196\n",
      "5191.0    0.188477\n",
      "5195.8    0.089419\n",
      "5076.2    0.040376\n",
      "5017.5    0.026003\n",
      "4991.6    0.018768\n",
      "5008.7    0.015781\n",
      "4963.6    0.015417\n",
      "5023.5    0.004176\n",
      "5176.3    0.000243\n",
      "Name: nr.employed, dtype: float64\n"
     ]
    },
    {
     "name": "stderr",
     "output_type": "stream",
     "text": [
      "C:\\Users\\LG\\AppData\\Local\\Programs\\Python\\Python39\\lib\\site-packages\\seaborn\\_decorators.py:36: FutureWarning: Pass the following variable as a keyword arg: x. From version 0.12, the only valid positional argument will be `data`, and passing other arguments without an explicit keyword will result in an error or misinterpretation.\n",
      "  warnings.warn(\n"
     ]
    },
    {
     "data": {
      "image/png": "[encoded data removed]",
      "text/plain": [
       "<Figure size 432x288 with 1 Axes>"
      ]
     },
     "metadata": {
      "needs_background": "light"
     },
     "output_type": "display_data"
    },
    {
     "name": "stdout",
     "output_type": "stream",
     "text": [
      "no     36548\n",
      "yes     4640\n",
      "Name: y, dtype: int64\n",
      "no     0.887346\n",
      "yes    0.112654\n",
      "Name: y, dtype: float64\n"
     ]
    }
   ],
   "source": [
    "df = df_raw\n",
    "for i in list:\n",
    "    sns.countplot(df[i])\n",
    "    plt.title(i)\n",
    "    plt.show()\n",
    "    print(df[i].value_counts())\n",
    "    print(df[i].value_counts()/len(df.index))\n"
   ]
  },
  {
   "cell_type": "code",
   "execution_count": 4,
   "id": "9e691822",
   "metadata": {
    "ExecuteTime": {
     "end_time": "2022-05-30T07:38:53.222759Z",
     "start_time": "2022-05-30T07:38:52.817834Z"
    }
   },
   "outputs": [
    {
     "name": "stderr",
     "output_type": "stream",
     "text": [
      "C:\\Users\\LG\\AppData\\Local\\Programs\\Python\\Python39\\lib\\site-packages\\seaborn\\_decorators.py:36: FutureWarning: Pass the following variable as a keyword arg: x. From version 0.12, the only valid positional argument will be `data`, and passing other arguments without an explicit keyword will result in an error or misinterpretation.\n",
      "  warnings.warn(\n"
     ]
    },
    {
     "data": {
      "image/png": "[encoded data removed]",
      "text/plain": [
       "<Figure size 432x288 with 1 Axes>"
      ]
     },
     "metadata": {
      "needs_background": "light"
     },
     "output_type": "display_data"
    },
    {
     "name": "stdout",
     "output_type": "stream",
     "text": [
      "(30, 40]     16385\n",
      "(40, 50]     10240\n",
      "(20, 30]      7243\n",
      "(50, 60]      6270\n",
      "(60, 70]       488\n",
      "(70, 80]       303\n",
      "(10, 20]       140\n",
      "(80, 90]       109\n",
      "(90, 100]       10\n",
      "Name: age, dtype: int64\n"
     ]
    }
   ],
   "source": [
    "list = pd.cut(df['age'],bins=[10,20,30,40,50,60,70,80,90,100])\n",
    "\n",
    "sns.countplot(list)\n",
    "plt.title('age_range')\n",
    "plt.show()\n",
    "print(list.value_counts())\n",
    "\n"
   ]
  },
  {
   "cell_type": "code",
   "execution_count": 5,
   "id": "05b9ad30",
   "metadata": {
    "ExecuteTime": {
     "end_time": "2022-05-30T07:38:53.718142Z",
     "start_time": "2022-05-30T07:38:53.228734Z"
    }
   },
   "outputs": [
    {
     "name": "stderr",
     "output_type": "stream",
     "text": [
      "C:\\Users\\LG\\AppData\\Local\\Programs\\Python\\Python39\\lib\\site-packages\\seaborn\\_decorators.py:36: FutureWarning: Pass the following variable as a keyword arg: x. From version 0.12, the only valid positional argument will be `data`, and passing other arguments without an explicit keyword will result in an error or misinterpretation.\n",
      "  warnings.warn(\n"
     ]
    },
    {
     "data": {
      "image/png": "[encoded data removed]",
      "text/plain": [
       "<Figure size 432x288 with 1 Axes>"
      ]
     },
     "metadata": {
      "needs_background": "light"
     },
     "output_type": "display_data"
    },
    {
     "name": "stdout",
     "output_type": "stream",
     "text": [
      "(25, 35]     14847\n",
      "(35, 45]     12844\n",
      "(45, 55]      8249\n",
      "(55, 65]      2963\n",
      "(15, 25]      1666\n",
      "(65, 75]       374\n",
      "(75, 85]       202\n",
      "(85, 95]        41\n",
      "(95, 100]        2\n",
      "Name: age, dtype: int64\n"
     ]
    }
   ],
   "source": [
    "list = pd.cut(df['age'],bins=[15,25,35,45,55,65,75,85,95,100])\n",
    "\n",
    "sns.countplot(list)\n",
    "plt.title('age_range')\n",
    "plt.show()\n",
    "print(list.value_counts())\n",
    "\n",
    "df_range = df_raw"
   ]
  },
  {
   "cell_type": "code",
   "execution_count": 6,
   "id": "60128532",
   "metadata": {
    "ExecuteTime": {
     "end_time": "2022-05-30T07:38:53.749970Z",
     "start_time": "2022-05-30T07:38:53.722094Z"
    }
   },
   "outputs": [
    {
     "data": {
      "text/plain": [
       "count    41188.000000\n",
       "mean       258.285010\n",
       "std        259.279249\n",
       "min          0.000000\n",
       "25%        102.000000\n",
       "50%        180.000000\n",
       "75%        319.000000\n",
       "max       4918.000000\n",
       "Name: duration, dtype: float64"
      ]
     },
     "execution_count": 6,
     "metadata": {},
     "output_type": "execute_result"
    }
   ],
   "source": [
    "df['duration'].describe()"
   ]
  },
  {
   "cell_type": "markdown",
   "id": "9bede988",
   "metadata": {},
   "source": [
    "# 탐색적 데이터 분석 결과\n",
    "현행 은행 정기예금 마케팅에 관련하여\n",
    "마케팅 주력 연령: 30대, 40대, 20대, 50대 순으로 나타남\n",
    "-> 경제활동이 활발한 인구층 대상 마케팅 진행\n",
    "\n",
    "마케팅 직군 구분: 관리직, 숙련노동자, 기술자, 서비스업종 순서로 나타난다.\n",
    "\n",
    "마케팅 결혼 유무: 기혼자 대상 마케팅 비율 60% 이상\n",
    "\n",
    "마케팅 교육 수준: 교육수준이 높을수록 마케팅 대상 비중이 높다.\n",
    "\n",
    "파산 경험: 파산 경험이 없는 경우가 마케팅 대상 중 80%, 나머지 20%는 데이터가 없는 경우\n",
    "\n",
    "주택담보 대출 유무: 마케팅 대상중 52%가 주담대 보유, 42%가 주담대 없음 나머지는 데이터 없음\n",
    "\n",
    "개인 대출 유무: 마케팅 대상 중 82%가 개인대출 없고 15%가 있으며 나머지는 데이터가 없음\n",
    "\n",
    "## 고객 데이터 기반 총평\n",
    "\n",
    "* 일반적으로 경제활동을 활발히 하면서 고액 소득이 기대되는 사람들을 중심으로 마케팅을 진행한다.\n",
    "\n",
    "---------------------------------------------------------------------------------------------------------\n",
    "\n",
    "마케팅 방식: 63%가 핸드폰, 36%가 전화기 \n",
    "\n",
    "마케팅 월: 일반적으로 5월에 가장 많은 마케팅이 발생하고 7,6,8순으로 발생, 11월과 4월도 두드러짐\n",
    "\n",
    "마케팅 요일: 요일은 거의 비슷함\n",
    "\n",
    "최종 마케팅 이후 기간: 평균 258일 정도 이며 50% 정도기 180일, 25%가 102일 안쪽에 해당한다., 75%가 319일 이하에 해당한다. \n",
    "\n",
    "## 홍보 관련 기반 총평\n",
    "* 5 ~ 8월 봄~여름의 정기예금 가입 마케팅을 많이 하고 11월과 4월에서도 두드러진 수치가 관측된다.\n",
    "\n",
    "----------------------------------------------------------------------------------------------------------------\n",
    "\n",
    "마케팅 시도 횟수: 일반적으로 1회 시도가 가장 많고 3회 이내의 시도 경우가 80%, 5회 이내의 시도가 90% 확률이다.\n",
    "\n",
    "이전에 다른 캠페인에 마케팅 시도 경우: 거의 없음\n",
    "\n",
    "이전 캠페인의 결과: 전체의 86%가 시도를 하지 않았고, 10%가 가입거절 3%정도가 가입을 했다.\n",
    "\n",
    "## 총평 \n",
    "홍보 이전에 알 수 있는 정보를 분류하고\n",
    "모든 인코딩 작업을 진행한다. \n",
    "이후 해당 데이터와 y값의 상관관계를 파악하고 \n",
    "다음과 같이 데이터 셋을 분류한다.\n",
    "1) 분류를 잘 할것으로 예상되는 데이터 셋트\n",
    "2) 전체 데이터 셋트\n",
    "\n",
    "2종류로 구분된 데이터 세트에 대해 분류 모델을 돌려 \n",
    "최선의 모델을 찾는다."
   ]
  },
  {
   "cell_type": "code",
   "execution_count": 7,
   "id": "a6f3c7b9",
   "metadata": {
    "ExecuteTime": {
     "end_time": "2022-05-30T07:38:53.781888Z",
     "start_time": "2022-05-30T07:38:53.752963Z"
    }
   },
   "outputs": [
    {
     "data": {
      "text/html": [
       "<div>\n",
       "<style scoped>\n",
       "    .dataframe tbody tr th:only-of-type {\n",
       "        vertical-align: middle;\n",
       "    }\n",
       "\n",
       "    .dataframe tbody tr th {\n",
       "        vertical-align: top;\n",
       "    }\n",
       "\n",
       "    .dataframe thead th {\n",
       "        text-align: right;\n",
       "    }\n",
       "</style>\n",
       "<table border=\"1\" class=\"dataframe\">\n",
       "  <thead>\n",
       "    <tr style=\"text-align: right;\">\n",
       "      <th></th>\n",
       "      <th>age</th>\n",
       "      <th>job</th>\n",
       "      <th>marital</th>\n",
       "      <th>education</th>\n",
       "      <th>default</th>\n",
       "      <th>housing</th>\n",
       "      <th>loan</th>\n",
       "    </tr>\n",
       "  </thead>\n",
       "  <tbody>\n",
       "    <tr>\n",
       "      <th>0</th>\n",
       "      <td>56</td>\n",
       "      <td>housemaid</td>\n",
       "      <td>married</td>\n",
       "      <td>basic.4y</td>\n",
       "      <td>no</td>\n",
       "      <td>no</td>\n",
       "      <td>no</td>\n",
       "    </tr>\n",
       "    <tr>\n",
       "      <th>1</th>\n",
       "      <td>57</td>\n",
       "      <td>services</td>\n",
       "      <td>married</td>\n",
       "      <td>high.school</td>\n",
       "      <td>unknown</td>\n",
       "      <td>no</td>\n",
       "      <td>no</td>\n",
       "    </tr>\n",
       "    <tr>\n",
       "      <th>2</th>\n",
       "      <td>37</td>\n",
       "      <td>services</td>\n",
       "      <td>married</td>\n",
       "      <td>high.school</td>\n",
       "      <td>no</td>\n",
       "      <td>yes</td>\n",
       "      <td>no</td>\n",
       "    </tr>\n",
       "    <tr>\n",
       "      <th>3</th>\n",
       "      <td>40</td>\n",
       "      <td>admin.</td>\n",
       "      <td>married</td>\n",
       "      <td>basic.6y</td>\n",
       "      <td>no</td>\n",
       "      <td>no</td>\n",
       "      <td>no</td>\n",
       "    </tr>\n",
       "    <tr>\n",
       "      <th>4</th>\n",
       "      <td>56</td>\n",
       "      <td>services</td>\n",
       "      <td>married</td>\n",
       "      <td>high.school</td>\n",
       "      <td>no</td>\n",
       "      <td>no</td>\n",
       "      <td>yes</td>\n",
       "    </tr>\n",
       "    <tr>\n",
       "      <th>...</th>\n",
       "      <td>...</td>\n",
       "      <td>...</td>\n",
       "      <td>...</td>\n",
       "      <td>...</td>\n",
       "      <td>...</td>\n",
       "      <td>...</td>\n",
       "      <td>...</td>\n",
       "    </tr>\n",
       "    <tr>\n",
       "      <th>41183</th>\n",
       "      <td>73</td>\n",
       "      <td>retired</td>\n",
       "      <td>married</td>\n",
       "      <td>professional.course</td>\n",
       "      <td>no</td>\n",
       "      <td>yes</td>\n",
       "      <td>no</td>\n",
       "    </tr>\n",
       "    <tr>\n",
       "      <th>41184</th>\n",
       "      <td>46</td>\n",
       "      <td>blue-collar</td>\n",
       "      <td>married</td>\n",
       "      <td>professional.course</td>\n",
       "      <td>no</td>\n",
       "      <td>no</td>\n",
       "      <td>no</td>\n",
       "    </tr>\n",
       "    <tr>\n",
       "      <th>41185</th>\n",
       "      <td>56</td>\n",
       "      <td>retired</td>\n",
       "      <td>married</td>\n",
       "      <td>university.degree</td>\n",
       "      <td>no</td>\n",
       "      <td>yes</td>\n",
       "      <td>no</td>\n",
       "    </tr>\n",
       "    <tr>\n",
       "      <th>41186</th>\n",
       "      <td>44</td>\n",
       "      <td>technician</td>\n",
       "      <td>married</td>\n",
       "      <td>professional.course</td>\n",
       "      <td>no</td>\n",
       "      <td>no</td>\n",
       "      <td>no</td>\n",
       "    </tr>\n",
       "    <tr>\n",
       "      <th>41187</th>\n",
       "      <td>74</td>\n",
       "      <td>retired</td>\n",
       "      <td>married</td>\n",
       "      <td>professional.course</td>\n",
       "      <td>no</td>\n",
       "      <td>yes</td>\n",
       "      <td>no</td>\n",
       "    </tr>\n",
       "  </tbody>\n",
       "</table>\n",
       "<p>41188 rows × 7 columns</p>\n",
       "</div>"
      ],
      "text/plain": [
       "       age          job  marital            education  default housing loan\n",
       "0       56    housemaid  married             basic.4y       no      no   no\n",
       "1       57     services  married          high.school  unknown      no   no\n",
       "2       37     services  married          high.school       no     yes   no\n",
       "3       40       admin.  married             basic.6y       no      no   no\n",
       "4       56     services  married          high.school       no      no  yes\n",
       "...    ...          ...      ...                  ...      ...     ...  ...\n",
       "41183   73      retired  married  professional.course       no     yes   no\n",
       "41184   46  blue-collar  married  professional.course       no      no   no\n",
       "41185   56      retired  married    university.degree       no     yes   no\n",
       "41186   44   technician  married  professional.course       no      no   no\n",
       "41187   74      retired  married  professional.course       no     yes   no\n",
       "\n",
       "[41188 rows x 7 columns]"
      ]
     },
     "execution_count": 7,
     "metadata": {},
     "output_type": "execute_result"
    }
   ],
   "source": [
    "customer = df[['age', 'job', 'marital', 'education', 'default', 'housing', 'loan']]\n",
    "customer"
   ]
  },
  {
   "cell_type": "markdown",
   "id": "0dba1801",
   "metadata": {},
   "source": [
    "# 인코딩 방식\n",
    "## job\n",
    "1) 은행 마케팅 비율이 높은 순서로 라벨 인코딩\n",
    "2) 원 핫 인코딩\n",
    "## education\n",
    "교육 수준별 높은 값 순서로 라벨 인코딩\n"
   ]
  },
  {
   "cell_type": "code",
   "execution_count": 8,
   "id": "29dd597e",
   "metadata": {
    "ExecuteTime": {
     "end_time": "2022-05-30T07:38:53.797843Z",
     "start_time": "2022-05-30T07:38:53.784877Z"
    }
   },
   "outputs": [
    {
     "name": "stdout",
     "output_type": "stream",
     "text": [
      "1\n"
     ]
    }
   ],
   "source": [
    "# 먼저 현재 수치로 표현된 데이터에 대해서 가입 여부에 따라 색을 다르게 했을 때, 상관관계는 다음과 같이 나타난다.\n",
    "# sns.pairplot(df,hue='y')\n",
    "print(1)\n",
    "# 그래도 duration(연락 지속 시간)이 가입 여부와 "
   ]
  },
  {
   "cell_type": "code",
   "execution_count": 9,
   "id": "6931a529",
   "metadata": {
    "ExecuteTime": {
     "end_time": "2022-05-30T07:38:57.052797Z",
     "start_time": "2022-05-30T07:38:53.804824Z"
    }
   },
   "outputs": [
    {
     "name": "stdout",
     "output_type": "stream",
     "text": [
      "['admin.' 'blue-collar' 'entrepreneur' 'housemaid' 'management' 'retired'\n",
      " 'self-employed' 'services' 'student' 'technician' 'unemployed']\n",
      "인코딩 변환값: [[3]\n",
      " [7]\n",
      " [7]\n",
      " ...\n",
      " [5]\n",
      " [9]\n",
      " [5]]\n",
      "인코딩 클래스: ['admin.' 'blue-collar' 'entrepreneur' 'housemaid' 'management' 'retired'\n",
      " 'self-employed' 'services' 'student' 'technician' 'unemployed' 'unknown']\n",
      "디코딩 원본값: ['admin.' 'blue-collar' 'entrepreneur' 'housemaid' 'management' 'retired'\n",
      " 'self-employed' 'services' 'student' 'technician' 'unemployed']\n"
     ]
    },
    {
     "ename": "ValueError",
     "evalue": "Shape of passed values is (41188, 12), indices imply (41188, 11)",
     "output_type": "error",
     "traceback": [
      "\u001b[1;31m---------------------------------------------------------------------------\u001b[0m",
      "\u001b[1;31mValueError\u001b[0m                                Traceback (most recent call last)",
      "Input \u001b[1;32mIn [9]\u001b[0m, in \u001b[0;36m<cell line: 23>\u001b[1;34m()\u001b[0m\n\u001b[0;32m     19\u001b[0m job_encode \u001b[38;5;241m=\u001b[39m oh_encoder\u001b[38;5;241m.\u001b[39mtransform(job_labels)\u001b[38;5;241m.\u001b[39mtoarray()\n\u001b[0;32m     21\u001b[0m job_encode\n\u001b[1;32m---> 23\u001b[0m df_job_encode \u001b[38;5;241m=\u001b[39m \u001b[43mpd\u001b[49m\u001b[38;5;241;43m.\u001b[39;49m\u001b[43mDataFrame\u001b[49m\u001b[43m(\u001b[49m\u001b[43mdata\u001b[49m\u001b[38;5;241;43m=\u001b[39;49m\u001b[43mjob_encode\u001b[49m\u001b[43m,\u001b[49m\u001b[43mcolumns\u001b[49m\u001b[38;5;241;43m=\u001b[39;49m\u001b[43mencoder\u001b[49m\u001b[38;5;241;43m.\u001b[39;49m\u001b[43minverse_transform\u001b[49m\u001b[43m(\u001b[49m\u001b[43mnp\u001b[49m\u001b[38;5;241;43m.\u001b[39;49m\u001b[43marange\u001b[49m\u001b[43m(\u001b[49m\u001b[38;5;241;43m11\u001b[39;49m\u001b[43m)\u001b[49m\u001b[43m)\u001b[49m\u001b[43m)\u001b[49m\n\u001b[0;32m     24\u001b[0m \u001b[38;5;66;03m# job = 라벨인코딩\u001b[39;00m\n\u001b[0;32m     25\u001b[0m \u001b[38;5;66;03m# 0: 'admin.' \u001b[39;00m\n\u001b[0;32m     26\u001b[0m \u001b[38;5;66;03m# 1: 'blue-collar' \u001b[39;00m\n\u001b[1;32m   (...)\u001b[0m\n\u001b[0;32m     35\u001b[0m \u001b[38;5;66;03m# 10: 'unemployed'\u001b[39;00m\n\u001b[0;32m     36\u001b[0m \u001b[38;5;66;03m# job_encode = 원핫인코딩\u001b[39;00m\n\u001b[0;32m     37\u001b[0m df_job_encode\n",
      "File \u001b[1;32m~\\AppData\\Local\\Programs\\Python\\Python39\\lib\\site-packages\\pandas\\core\\frame.py:694\u001b[0m, in \u001b[0;36mDataFrame.__init__\u001b[1;34m(self, data, index, columns, dtype, copy)\u001b[0m\n\u001b[0;32m    684\u001b[0m         mgr \u001b[38;5;241m=\u001b[39m dict_to_mgr(\n\u001b[0;32m    685\u001b[0m             \u001b[38;5;66;03m# error: Item \"ndarray\" of \"Union[ndarray, Series, Index]\" has no\u001b[39;00m\n\u001b[0;32m    686\u001b[0m             \u001b[38;5;66;03m# attribute \"name\"\u001b[39;00m\n\u001b[1;32m   (...)\u001b[0m\n\u001b[0;32m    691\u001b[0m             typ\u001b[38;5;241m=\u001b[39mmanager,\n\u001b[0;32m    692\u001b[0m         )\n\u001b[0;32m    693\u001b[0m     \u001b[38;5;28;01melse\u001b[39;00m:\n\u001b[1;32m--> 694\u001b[0m         mgr \u001b[38;5;241m=\u001b[39m \u001b[43mndarray_to_mgr\u001b[49m\u001b[43m(\u001b[49m\n\u001b[0;32m    695\u001b[0m \u001b[43m            \u001b[49m\u001b[43mdata\u001b[49m\u001b[43m,\u001b[49m\n\u001b[0;32m    696\u001b[0m \u001b[43m            \u001b[49m\u001b[43mindex\u001b[49m\u001b[43m,\u001b[49m\n\u001b[0;32m    697\u001b[0m \u001b[43m            \u001b[49m\u001b[43mcolumns\u001b[49m\u001b[43m,\u001b[49m\n\u001b[0;32m    698\u001b[0m \u001b[43m            \u001b[49m\u001b[43mdtype\u001b[49m\u001b[38;5;241;43m=\u001b[39;49m\u001b[43mdtype\u001b[49m\u001b[43m,\u001b[49m\n\u001b[0;32m    699\u001b[0m \u001b[43m            \u001b[49m\u001b[43mcopy\u001b[49m\u001b[38;5;241;43m=\u001b[39;49m\u001b[43mcopy\u001b[49m\u001b[43m,\u001b[49m\n\u001b[0;32m    700\u001b[0m \u001b[43m            \u001b[49m\u001b[43mtyp\u001b[49m\u001b[38;5;241;43m=\u001b[39;49m\u001b[43mmanager\u001b[49m\u001b[43m,\u001b[49m\n\u001b[0;32m    701\u001b[0m \u001b[43m        \u001b[49m\u001b[43m)\u001b[49m\n\u001b[0;32m    703\u001b[0m \u001b[38;5;66;03m# For data is list-like, or Iterable (will consume into list)\u001b[39;00m\n\u001b[0;32m    704\u001b[0m \u001b[38;5;28;01melif\u001b[39;00m is_list_like(data):\n",
      "File \u001b[1;32m~\\AppData\\Local\\Programs\\Python\\Python39\\lib\\site-packages\\pandas\\core\\internals\\construction.py:351\u001b[0m, in \u001b[0;36mndarray_to_mgr\u001b[1;34m(values, index, columns, dtype, copy, typ)\u001b[0m\n\u001b[0;32m    346\u001b[0m \u001b[38;5;66;03m# _prep_ndarray ensures that values.ndim == 2 at this point\u001b[39;00m\n\u001b[0;32m    347\u001b[0m index, columns \u001b[38;5;241m=\u001b[39m _get_axes(\n\u001b[0;32m    348\u001b[0m     values\u001b[38;5;241m.\u001b[39mshape[\u001b[38;5;241m0\u001b[39m], values\u001b[38;5;241m.\u001b[39mshape[\u001b[38;5;241m1\u001b[39m], index\u001b[38;5;241m=\u001b[39mindex, columns\u001b[38;5;241m=\u001b[39mcolumns\n\u001b[0;32m    349\u001b[0m )\n\u001b[1;32m--> 351\u001b[0m \u001b[43m_check_values_indices_shape_match\u001b[49m\u001b[43m(\u001b[49m\u001b[43mvalues\u001b[49m\u001b[43m,\u001b[49m\u001b[43m \u001b[49m\u001b[43mindex\u001b[49m\u001b[43m,\u001b[49m\u001b[43m \u001b[49m\u001b[43mcolumns\u001b[49m\u001b[43m)\u001b[49m\n\u001b[0;32m    353\u001b[0m \u001b[38;5;28;01mif\u001b[39;00m typ \u001b[38;5;241m==\u001b[39m \u001b[38;5;124m\"\u001b[39m\u001b[38;5;124marray\u001b[39m\u001b[38;5;124m\"\u001b[39m:\n\u001b[0;32m    355\u001b[0m     \u001b[38;5;28;01mif\u001b[39;00m \u001b[38;5;28missubclass\u001b[39m(values\u001b[38;5;241m.\u001b[39mdtype\u001b[38;5;241m.\u001b[39mtype, \u001b[38;5;28mstr\u001b[39m):\n",
      "File \u001b[1;32m~\\AppData\\Local\\Programs\\Python\\Python39\\lib\\site-packages\\pandas\\core\\internals\\construction.py:422\u001b[0m, in \u001b[0;36m_check_values_indices_shape_match\u001b[1;34m(values, index, columns)\u001b[0m\n\u001b[0;32m    420\u001b[0m passed \u001b[38;5;241m=\u001b[39m values\u001b[38;5;241m.\u001b[39mshape\n\u001b[0;32m    421\u001b[0m implied \u001b[38;5;241m=\u001b[39m (\u001b[38;5;28mlen\u001b[39m(index), \u001b[38;5;28mlen\u001b[39m(columns))\n\u001b[1;32m--> 422\u001b[0m \u001b[38;5;28;01mraise\u001b[39;00m \u001b[38;5;167;01mValueError\u001b[39;00m(\u001b[38;5;124mf\u001b[39m\u001b[38;5;124m\"\u001b[39m\u001b[38;5;124mShape of passed values is \u001b[39m\u001b[38;5;132;01m{\u001b[39;00mpassed\u001b[38;5;132;01m}\u001b[39;00m\u001b[38;5;124m, indices imply \u001b[39m\u001b[38;5;132;01m{\u001b[39;00mimplied\u001b[38;5;132;01m}\u001b[39;00m\u001b[38;5;124m\"\u001b[39m)\n",
      "\u001b[1;31mValueError\u001b[0m: Shape of passed values is (41188, 12), indices imply (41188, 11)"
     ]
    }
   ],
   "source": [
    "# job\n",
    "job = df_raw['job']\n",
    "\n",
    "encoder=LabelEncoder()\n",
    "job = encoder.fit_transform(job)\n",
    "\n",
    "\n",
    "print(encoder.inverse_transform([0,1,2,3,4,5,6,7,8,9,10]))\n",
    "print('인코딩 변환값:',job.reshape(-1,1))\n",
    "\n",
    "print('인코딩 클래스:',encoder.classes_)\n",
    "print('디코딩 원본값:',encoder.inverse_transform(np.arange(0,11)))\n",
    "\n",
    "\n",
    "job_labels=job.reshape(-1,1)\n",
    "\n",
    "oh_encoder=OneHotEncoder()\n",
    "oh_encoder.fit(job_labels)\n",
    "job_encode = oh_encoder.transform(job_labels).toarray()\n",
    "\n",
    "job_encode\n",
    "\n",
    "df_job_encode = pd.DataFrame(data=job_encode,columns=encoder.inverse_transform(np.arange(11)))\n",
    "# job = 라벨인코딩\n",
    "# 0: 'admin.' \n",
    "# 1: 'blue-collar' \n",
    "# 2: 'entrepreneur' \n",
    "# 3: 'housemaid' \n",
    "# 4: 'management' \n",
    "# 5: 'retired'\n",
    "# 6: 'self-employed' \n",
    "# 7: 'services' \n",
    "# 8: 'student' \n",
    "# 9: 'technician' \n",
    "# 10: 'unemployed'\n",
    "# job_encode = 원핫인코딩\n",
    "df_job_encode"
   ]
  },
  {
   "cell_type": "code",
   "execution_count": null,
   "id": "a9374048",
   "metadata": {
    "ExecuteTime": {
     "end_time": "2022-05-30T07:38:57.061746Z",
     "start_time": "2022-05-30T07:38:57.061746Z"
    }
   },
   "outputs": [],
   "source": [
    "# marital\n",
    "df_mar=df_raw['marital']\n",
    "df_mar\n",
    "\n",
    "mar_category=['married','single','divorced'] \n",
    "encoder=LabelEncoder()\n",
    "encoder.fit(df_mar)\n",
    "marital = encoder.transform(df_mar)\n",
    "\n",
    "\n",
    "\n",
    "\n",
    "\n",
    "\n",
    "marital=marital.reshape(-1,1)\n",
    "\n",
    "oh_encoder=OneHotEncoder()\n",
    "oh_encoder.fit(marital)\n",
    "marital_encode = oh_encoder.transform(marital).toarray()\n",
    "marital_encode\n",
    "\n",
    "df_marital_encode = pd.DataFrame(data=marital_encode,columns=encoder.inverse_transform(np.arange(3)))\n",
    "\n",
    "df_marital_encode.columns=['divorced','married','single']\n",
    "df_marital_encode\n",
    "#marital: 라벨 인코딩\n",
    "# divorced: 0, married: 1, single: 2\n",
    "# marital_encode: 원핫 인코딩"
   ]
  },
  {
   "cell_type": "code",
   "execution_count": null,
   "id": "f7906ab9",
   "metadata": {
    "ExecuteTime": {
     "end_time": "2022-05-30T07:38:57.063741Z",
     "start_time": "2022-05-30T07:38:57.063741Z"
    }
   },
   "outputs": [],
   "source": [
    "# education\n",
    "df_edu = df_raw['education']\n",
    "\n",
    "\n",
    "edu_category= ['illiterate','basic.4y','basic.6y','basic.9y','high.school','university.degree','professional.course']   \n",
    "\n",
    "for i in edu_category:\n",
    "    df_edu = df_edu.apply(lambda x: x.replace(i,str(edu_category.index(i))))\n",
    "\n",
    "edu=df_edu.astype('int64')\n",
    "\n",
    "edu_label = np.array(edu).reshape(-1,1)\n",
    "\n",
    "oh_encoder=OneHotEncoder()\n",
    "oh_encoder.fit(edu_label)\n",
    "edu_encode = oh_encoder.transform(edu_label).toarray()\n",
    "\n",
    "edu_encode\n",
    "\n",
    "\n",
    "df_edu_encode = pd.DataFrame(data=edu_encode,columns=edu_category)\n",
    "\n",
    "\n",
    "df_edu_encode\n",
    "# edu: 라벨 인코딩\n",
    "# 0: 'illiterate',\n",
    "# 1: 'basic.4y',\n",
    "# 2: 'basic.6y',\n",
    "# 3: 'basic.9y',\n",
    "# 4: 'high.school',\n",
    "# 5: 'university.degree',\n",
    "# 6: 'professional.course',\n",
    "# 7: 'unknown'\n",
    "# edu_encode: 원핫 인코딩"
   ]
  },
  {
   "cell_type": "code",
   "execution_count": null,
   "id": "6598ac08",
   "metadata": {
    "ExecuteTime": {
     "end_time": "2022-05-30T07:38:57.067732Z",
     "start_time": "2022-05-30T07:38:57.067732Z"
    }
   },
   "outputs": [],
   "source": [
    "# default\n",
    "\n",
    "default = df_raw['default']\n",
    "\n",
    "def_category=['no','yes']\n",
    "\n",
    "\n",
    "for i in def_category:\n",
    "    default = default.apply(lambda x: x.replace(i,str(def_category.index(i))))\n",
    "\n",
    "               \n",
    "default= default.astype('int64')\n",
    "\n",
    "\n",
    "default = np.array(default).reshape(-1,1)\n",
    "\n",
    "oh_encoder=OneHotEncoder()\n",
    "oh_encoder.fit(default)\n",
    "default_encode = oh_encoder.transform(default).toarray()\n",
    "\n",
    "default_encode\n",
    "\n",
    "\n",
    "df_default_encode = pd.DataFrame(data=default_encode,columns=['no','yes'])\n",
    "\n",
    "\n",
    "df_default_encode.columns = ['default_no', 'default_yes']\n",
    "df_default_encode\n",
    "# default: 라벨 인코딩\n",
    "# 0: 'no',\n",
    "# 1: 'yes'\n",
    "\n",
    "# default_encode: 원핫 인코딩"
   ]
  },
  {
   "cell_type": "code",
   "execution_count": null,
   "id": "90472af5",
   "metadata": {
    "ExecuteTime": {
     "end_time": "2022-05-30T07:38:57.070725Z",
     "start_time": "2022-05-30T07:38:57.070725Z"
    }
   },
   "outputs": [],
   "source": [
    "#housing loan pdays\n",
    "# house\n",
    "house = df_raw['housing']\n",
    "\n",
    "\n",
    "house = house.apply(lambda x: x.replace('no','0'))\n",
    "house = house.apply(lambda x: x.replace('yes','1'))\n",
    "\n",
    "house.astype('int64')\n",
    "\n",
    "encoder = OneHotEncoder(sparse=True)\n",
    "house_encode = encoder.fit_transform(np.array(house).reshape(-1,1)).toarray()\n",
    "\n",
    "house_encode\n",
    "\n",
    "\n",
    "df_house_encode = pd.DataFrame(data=house_encode,columns=['no','yes'])\n",
    "\n",
    "\n",
    "\n",
    "df_house_encode.columns = ['house_no', 'house_yes']\n",
    "df_house_encode\n",
    "\n",
    "df_house_encode\n",
    "# house = 라벨인코딩(no: 0, yes: 1, unknown:2)\n",
    "# house_encode = 원핫인코딩()"
   ]
  },
  {
   "cell_type": "code",
   "execution_count": null,
   "id": "86ba5f89",
   "metadata": {
    "ExecuteTime": {
     "end_time": "2022-05-30T07:38:57.072717Z",
     "start_time": "2022-05-30T07:38:57.072717Z"
    }
   },
   "outputs": [],
   "source": [
    "# loan\n",
    "loan = df_raw['loan']\n",
    "\n",
    "\n",
    "loan = loan.apply(lambda x: x.replace('no','0'))\n",
    "loan = loan.apply(lambda x: x.replace('yes','1'))\n",
    "\n",
    "loan.astype('int64')\n",
    "\n",
    "encoder = OneHotEncoder()\n",
    "loan_encode = encoder.fit_transform(np.array(loan).reshape(-1,1))\n",
    "loan_encode = loan_encode.toarray()\n",
    "loan_encode\n",
    "\n",
    "\n",
    "\n",
    "df_loan_encode = pd.DataFrame(data=loan_encode,columns=['no','yes'])\n",
    "\n",
    "df_loan_encode.columns = ['loan_no', 'loan_yes']\n",
    "df_loan_encode\n",
    "\n",
    "df_loan_encode\n",
    "# loan = 라벨인코딩(no: 0, yes: 1, unknown:2)\n",
    "# loan_encode = 원핫인코딩()"
   ]
  },
  {
   "cell_type": "code",
   "execution_count": null,
   "id": "042b2243",
   "metadata": {
    "ExecuteTime": {
     "end_time": "2022-05-30T07:38:57.075714Z",
     "start_time": "2022-05-30T07:38:57.075714Z"
    }
   },
   "outputs": [],
   "source": [
    "#pdays= 999를 -1로 전환\n",
    "pdays = df['pdays'].astype('str')\n",
    "\n",
    "\n",
    "pdays = pdays.apply(lambda x: x.replace('999','-1'))\n",
    "\n",
    "pdays = pdays.astype('int64')\n",
    "\n",
    "pdays = pd.DataFrame(data=pdays)\n",
    "pdays"
   ]
  },
  {
   "cell_type": "code",
   "execution_count": null,
   "id": "716960f2",
   "metadata": {
    "ExecuteTime": {
     "end_time": "2022-05-30T07:38:57.078702Z",
     "start_time": "2022-05-30T07:38:57.078702Z"
    }
   },
   "outputs": [],
   "source": [
    "# pout\n",
    "pout=df_raw['poutcome']\n",
    "pout\n",
    "\n",
    "\n",
    "pout= pout.apply(lambda x: x.replace('failure','0'))\n",
    "pout = pout.apply(lambda x: x.replace('success','1'))\n",
    "pout = pout.apply(lambda x: x.replace('nonexistent','2'))\n",
    "\n",
    "\n",
    "\n",
    "labels_p=np.array(pout).reshape(-1,1)\n",
    "oh_encorder=OneHotEncoder()\n",
    "oh_encorder.fit(labels_p)\n",
    "oh_labels_p=oh_encorder.transform(labels_p)\n",
    "oh_labels_p = oh_labels_p.toarray()\n",
    "\n",
    "\n",
    "\n",
    "\n",
    "df_oh_labels_p = pd.DataFrame(data=oh_labels_p,columns=['pout_no','pout_yes','pout_unknown'])\n",
    "\n",
    "\n",
    "df_oh_labels_p\n",
    "# pout = 라벨인코딩(이전 결과 실패:0,성공:1,알수없음:2)\n",
    "# oh_labels_p = 원핫 인코딩\n"
   ]
  },
  {
   "cell_type": "code",
   "execution_count": null,
   "id": "a523f915",
   "metadata": {
    "ExecuteTime": {
     "end_time": "2022-05-30T07:38:57.082690Z",
     "start_time": "2022-05-30T07:38:57.082690Z"
    }
   },
   "outputs": [],
   "source": [
    "# y\n",
    "y = df_raw['y']\n",
    "\n",
    "encorder=LabelEncoder()\n",
    "encorder.fit(y)\n",
    "labels_y=encorder.transform(y)\n",
    "\n",
    "print(labels_y)\n",
    "print(df['y'])\n",
    "\n",
    "y_encode = pd.DataFrame(data=labels_y,columns=['y'])"
   ]
  },
  {
   "cell_type": "code",
   "execution_count": null,
   "id": "c64315da",
   "metadata": {
    "ExecuteTime": {
     "end_time": "2022-05-30T07:38:57.088674Z",
     "start_time": "2022-05-30T07:38:57.088674Z"
    }
   },
   "outputs": [],
   "source": [
    "df = df_raw.drop(['contact', 'month', 'day_of_week', 'duration', 'campaign','emp.var.rate', 'cons.price.idx','cons.conf.idx', 'euribor3m', 'nr.employed'],axis=1)\n",
    "df"
   ]
  },
  {
   "cell_type": "code",
   "execution_count": null,
   "id": "0df911e0",
   "metadata": {
    "ExecuteTime": {
     "end_time": "2022-05-30T07:38:57.091668Z",
     "start_time": "2022-05-30T07:38:57.091668Z"
    }
   },
   "outputs": [],
   "source": [
    "df_label = df\n",
    "\n",
    "df_label['job'] = job\n",
    "df_label['marital'] = marital\n",
    "df_label['education'] = edu\n",
    "df_label['default'] = default\n",
    "df_label['housing'] = house\n",
    "df_label['loan'] = loan\n",
    "df_label['poutcome'] = pout\n",
    "df_label['y'] = labels_y\n",
    "\n",
    "df_label"
   ]
  },
  {
   "cell_type": "code",
   "execution_count": null,
   "id": "7df7f5d7",
   "metadata": {
    "ExecuteTime": {
     "end_time": "2022-05-30T07:38:57.093661Z",
     "start_time": "2022-05-30T07:38:57.093661Z"
    }
   },
   "outputs": [],
   "source": [
    "# 변수 사이의 상관관계\n",
    "## 눈에 띄는 상관관계는 보이지 않는다. \n",
    "## 추후에 수치적인 확인이 필요할 것 같다."
   ]
  },
  {
   "cell_type": "markdown",
   "id": "a5154fc6",
   "metadata": {},
   "source": [
    "# 원핫 인코딩 데이터프레임"
   ]
  },
  {
   "cell_type": "code",
   "execution_count": null,
   "id": "51703e2f",
   "metadata": {
    "ExecuteTime": {
     "end_time": "2022-05-30T07:38:57.096653Z",
     "start_time": "2022-05-30T07:38:57.096653Z"
    }
   },
   "outputs": [],
   "source": [
    "df_onehot = pd.DataFrame(df_raw['age'])\n",
    "df_onehot = pd.concat([df_onehot,df_job_encode,df_marital_encode,df_edu_encode,df_default_encode, df_loan_encode,pdays,df['previous'],df_oh_labels_p,y_encode],axis=1)\n",
    "df_onehot\n"
   ]
  },
  {
   "cell_type": "code",
   "execution_count": null,
   "id": "e8c3c3d4",
   "metadata": {
    "ExecuteTime": {
     "end_time": "2022-05-30T07:38:57.100643Z",
     "start_time": "2022-05-30T07:38:57.100643Z"
    }
   },
   "outputs": [],
   "source": [
    "df_label.to_csv('labeldropna_encoding_data.csv')\n",
    "df_onehot.to_csv('onehotdropna_encoding_data.csv')"
   ]
  },
  {
   "cell_type": "code",
   "execution_count": null,
   "id": "94872556",
   "metadata": {
    "ExecuteTime": {
     "end_time": "2022-05-30T07:38:57.103634Z",
     "start_time": "2022-05-30T07:38:57.103634Z"
    }
   },
   "outputs": [],
   "source": [
    "df['previous'].unique()"
   ]
  },
  {
   "cell_type": "code",
   "execution_count": null,
   "id": "32b24a1b",
   "metadata": {
    "ExecuteTime": {
     "end_time": "2022-05-30T07:38:57.105633Z",
     "start_time": "2022-05-30T07:38:57.105633Z"
    }
   },
   "outputs": [],
   "source": [
    "import numpy as np\n",
    "import pandas as pd\n",
    "\n",
    "from collections import Counter\n",
    "\n",
    "from matplotlib import pyplot as plt\n",
    "import seaborn as sns\n",
    "\n",
    "from imblearn.under_sampling import *\n",
    "from imblearn.over_sampling import *\n",
    "from imblearn.over_sampling import SMOTE\n"
   ]
  },
  {
   "cell_type": "code",
   "execution_count": null,
   "id": "6aa87eb4",
   "metadata": {
    "ExecuteTime": {
     "end_time": "2022-05-30T07:38:57.108623Z",
     "start_time": "2022-05-30T07:38:57.108623Z"
    }
   },
   "outputs": [],
   "source": [
    "df_dropna = df_raw\n",
    "\n",
    "for i in df_label.columns:\n",
    "    index1 = df_dropna[df_dropna[i]=='unknown'].index\n",
    "    index2 = df_dropna[df_dropna[i]=='unkn0wn'].index\n",
    "    \n",
    "    df_dropna.drop(index1,inplace=True)\n",
    "    df_dropna.drop(index2,inplace=True)\n",
    "df_dropna"
   ]
  },
  {
   "cell_type": "code",
   "execution_count": null,
   "id": "bf6ded91",
   "metadata": {
    "ExecuteTime": {
     "end_time": "2022-05-30T07:38:57.111614Z",
     "start_time": "2022-05-30T07:38:57.111614Z"
    }
   },
   "outputs": [],
   "source": [
    "df_dropna.reset_index(drop=True,inplace=True)\n",
    "df_dropna.to_csv('dropna_data.csv')"
   ]
  },
  {
   "cell_type": "code",
   "execution_count": 51,
   "id": "e7f01d73",
   "metadata": {
    "ExecuteTime": {
     "end_time": "2022-05-31T12:21:35.713357Z",
     "start_time": "2022-05-31T12:21:35.395683Z"
    }
   },
   "outputs": [],
   "source": []
  }
 ],
 "metadata": {
  "hide_input": false,
  "interpreter": {
   "hash": "4433c53beecf9fa27aec6b9e123395b8ea922090ab7244ce3da69a49c8416289"
  },
  "kernelspec": {
   "display_name": "Python 3 (ipykernel)",
   "language": "python",
   "name": "python3"
  },
  "language_info": {
   "codemirror_mode": {
    "name": "ipython",
    "version": 3
   },
   "file_extension": ".py",
   "mimetype": "text/x-python",
   "name": "python",
   "nbconvert_exporter": "python",
   "pygments_lexer": "ipython3",
   "version": "3.9.7"
  },
  "toc": {
   "base_numbering": 1,
   "nav_menu": {},
   "number_sections": true,
   "sideBar": true,
   "skip_h1_title": false,
   "title_cell": "Table of Contents",
   "title_sidebar": "Contents",
   "toc_cell": false,
   "toc_position": {},
   "toc_section_display": true,
   "toc_window_display": false
  },
  "varInspector": {
   "cols": {
    "lenName": 16,
    "lenType": 16,
    "lenVar": 40
   },
   "kernels_config": {
    "python": {
     "delete_cmd_postfix": "",
     "delete_cmd_prefix": "del ",
     "library": "var_list.py",
     "varRefreshCmd": "print(var_dic_list())"
    },
    "r": {
     "delete_cmd_postfix": ") ",
     "delete_cmd_prefix": "rm(",
     "library": "var_list.r",
     "varRefreshCmd": "cat(var_dic_list()) "
    }
   },
   "types_to_exclude": [
    "module",
    "function",
    "builtin_function_or_method",
    "instance",
    "_Feature"
   ],
   "window_display": false
  }
 },
 "nbformat": 4,
 "nbformat_minor": 5
}
