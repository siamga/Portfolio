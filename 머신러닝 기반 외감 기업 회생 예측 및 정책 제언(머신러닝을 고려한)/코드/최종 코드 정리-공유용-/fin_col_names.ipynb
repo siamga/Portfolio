{
 "cells": [
  {
   "cell_type": "markdown",
   "metadata": {},
   "source": [
    "# 기본 데이터 프레임에 사용되는 독립변수들의 이름으로 구성된 컬럼명들을 만드는 코드이다."
   ]
  },
  {
   "cell_type": "code",
   "execution_count": 2,
   "metadata": {},
   "outputs": [],
   "source": [
    "import pandas as pd"
   ]
  },
  {
   "cell_type": "code",
   "execution_count": 4,
   "metadata": {},
   "outputs": [],
   "source": [
    "list = ['영업손실','총자산증가율','유동자산증가율','매출액증가율','매출액순이익률','매출원가대매출액비율','자기자본순이익률','총자산순이익률','매출액대판매관리비','매출채권회전율','재고자산회전율','총자본회전율','유형자산회전율','부채비율','유동비율','자기자본배율','당좌비율','고정비율','순운전자본비율','차입금의존도','현금비율','부채/자산','부채/매출액','부채/현금흐름','유동부채/부채','현금흐름/매출액','차입금평균금리','이자보상배율']\n",
    "df = ['구분','항목']\n",
    "\n",
    "for i in list:\n",
    "    df.append(i)\n",
    "    df.append(i)\n",
    "    df.append(i)\n",
    "\n",
    "df = pd.DataFrame(columns=df)\n",
    "df.to_csv('fin_col_names.csv',encoding='cp949',index=False)"
   ]
  }
 ],
 "metadata": {
  "kernelspec": {
   "display_name": "Python 3.9.7 64-bit",
   "language": "python",
   "name": "python3"
  },
  "language_info": {
   "codemirror_mode": {
    "name": "ipython",
    "version": 3
   },
   "file_extension": ".py",
   "mimetype": "text/x-python",
   "name": "python",
   "nbconvert_exporter": "python",
   "pygments_lexer": "ipython3",
   "version": "3.9.7"
  },
  "orig_nbformat": 4,
  "vscode": {
   "interpreter": {
    "hash": "4433c53beecf9fa27aec6b9e123395b8ea922090ab7244ce3da69a49c8416289"
   }
  }
 },
 "nbformat": 4,
 "nbformat_minor": 2
}
