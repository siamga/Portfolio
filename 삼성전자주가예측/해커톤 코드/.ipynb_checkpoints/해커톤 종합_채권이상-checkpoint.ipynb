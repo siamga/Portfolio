{
 "cells": [
  {
   "cell_type": "markdown",
   "id": "cafda117",
   "metadata": {
    "id": "cafda117"
   },
   "source": [
    "# 지표 설명\n",
    "## 주가\n",
    "* SAMSUNG: 삼성 주가\n",
    "* NDAQ: 나스닥 지수\n",
    "* HSI\t: 항셍 지수\n",
    "* KOSPI: 코스피\n",
    "* N225: 니케이225\n",
    "* SOX\t: 필라델피아 반도체 지수\n",
    "\n",
    "## 채권\n",
    "* KR_3year_yield(%): 국채 3년물 수익률\t\n",
    "* US_10year_yeild(%): 미국 재무성 채권 10년물 수익률 \n",
    "\n",
    "## 원자재\n",
    "* Gold : 금 현물 시세(달러 표기)\n",
    "* Dubai(BPD) : 두바이유(배럴 당 달러) - 한국석유공사 공시 자료\n",
    "* Brent(BPD): 브렌트유(배럴 당 달러) - 한국석유공사 공시 자료\n",
    "* WTI(BPD): 서부 텍사스유(배럴 당 달러) -한국석유공사 공시 자료\n",
    "    - 한국 석유공사가 국제 원유 현물 가격을 공시하는데 해당 가격은 미국의 Mcgraw Hill사가 운영하는 Platt's에서 전세계 현물 거래 정보를 수집하여 고유 가격 산정 방식에 따라서 적당한 당일 평가 가격을 게시하고 이 자료를 그대로 올리고 있다.-> 산업통상자원부 자료 참조\n",
    "    - 금 지수는 2,4,6,8,10월 중 해당 날짜에서 가장 가까운 만기의 선물 가격을 고시하고 있음 ->CME(시카고 상품 거래소)\n",
    "\n",
    "## 환율\n",
    "* JPY(1YEN): 1엔당 원\t\n",
    "* USD: 1달러 당 원\n"
   ]
  },
  {
   "cell_type": "markdown",
   "id": "65fa3195",
   "metadata": {},
   "source": [
    "# 자산 raw_data\n",
    "## 종합 데이터 프레임, 그래프"
   ]
  },
  {
   "cell_type": "code",
   "execution_count": 1,
   "id": "f9456b2e",
   "metadata": {
    "ExecuteTime": {
     "end_time": "2022-04-26T07:54:10.188371Z",
     "start_time": "2022-04-26T07:54:08.737693Z"
    },
    "id": "f9456b2e",
    "outputId": "eb6f5636-2b41-4355-ed67-56ee7153e5b9"
   },
   "outputs": [
    {
     "ename": "NameError",
     "evalue": "name 'stock_index_4' is not defined",
     "output_type": "error",
     "traceback": [
      "\u001b[1;31m---------------------------------------------------------------------------\u001b[0m",
      "\u001b[1;31mNameError\u001b[0m                                 Traceback (most recent call last)",
      "Input \u001b[1;32mIn [1]\u001b[0m, in \u001b[0;36m<module>\u001b[1;34m\u001b[0m\n\u001b[0;32m      1\u001b[0m \u001b[38;5;66;03m# stock_inde_5 = stock_index_4 + 환율\u001b[39;00m\n\u001b[0;32m      2\u001b[0m \u001b[38;5;28;01mimport\u001b[39;00m \u001b[38;5;21;01mmatplotlib\u001b[39;00m\u001b[38;5;21;01m.\u001b[39;00m\u001b[38;5;21;01mpyplot\u001b[39;00m \u001b[38;5;28;01mas\u001b[39;00m \u001b[38;5;21;01mplt\u001b[39;00m\n\u001b[1;32m----> 3\u001b[0m stock_index_5\u001b[38;5;241m=\u001b[39m\u001b[43mstock_index_4\u001b[49m\u001b[38;5;241m.\u001b[39mmerge(exchange,on\u001b[38;5;241m=\u001b[39m\u001b[38;5;124m'\u001b[39m\u001b[38;5;124mDate\u001b[39m\u001b[38;5;124m'\u001b[39m,how\u001b[38;5;241m=\u001b[39m\u001b[38;5;124m'\u001b[39m\u001b[38;5;124mleft\u001b[39m\u001b[38;5;124m'\u001b[39m)\n\u001b[0;32m      7\u001b[0m \u001b[38;5;66;03m# 주가지수 그래프\u001b[39;00m\n\u001b[0;32m      8\u001b[0m \u001b[38;5;66;03m# 채권 그래프\u001b[39;00m\n\u001b[0;32m      9\u001b[0m \u001b[38;5;66;03m# 원자재 그래프\u001b[39;00m\n\u001b[0;32m     10\u001b[0m \u001b[38;5;66;03m# 환율 그래프\u001b[39;00m\n\u001b[0;32m     11\u001b[0m stock_index_6 \u001b[38;5;241m=\u001b[39m pd\u001b[38;5;241m.\u001b[39mread_csv(\u001b[38;5;124m'\u001b[39m\u001b[38;5;124m./2019_2021 자산지수.csv\u001b[39m\u001b[38;5;124m'\u001b[39m)\n",
      "\u001b[1;31mNameError\u001b[0m: name 'stock_index_4' is not defined"
     ]
    }
   ],
   "source": [
    "# stock_inde_5 = stock_index_4 + 환율\n",
    "import matplotlib.pyplot as plt\n",
    "stock_index_5=stock_index_4.merge(exchange,on='Date',how='left')\n",
    "\n",
    "\n",
    "\n",
    "# 주가지수 그래프\n",
    "# 채권 그래프\n",
    "# 원자재 그래프\n",
    "# 환율 그래프\n",
    "stock_index_6 = pd.read_csv('./2019_2021 자산지수.csv')\n",
    "stock_index_6"
   ]
  },
  {
   "cell_type": "markdown",
   "id": "ad06a0b1",
   "metadata": {},
   "source": [
    "## 주가지수 그래프"
   ]
  },
  {
   "cell_type": "code",
   "execution_count": null,
   "id": "2acbfc58",
   "metadata": {
    "ExecuteTime": {
     "end_time": "2022-04-26T07:50:15.715421Z",
     "start_time": "2022-04-26T07:50:15.715421Z"
    },
    "id": "2acbfc58",
    "outputId": "cf7d08dd-9974-4aed-95d0-41cdeb874967"
   },
   "outputs": [],
   "source": [
    "# 주가지수 그래프\n",
    "stock_index_6.loc[:,'SAMSUNG':'SOX'].plot()\n",
    "plt.show()\n",
    "\n",
    "# 삼성 제외\n",
    "stock_index_6.loc[:,'NDAQ':'SOX'].plot()\n",
    "plt.show()\n",
    "\n",
    "#항셍, 니케이225 제외\n",
    "stock_index_6.loc[:,'NDAQ':'SOX'].drop(['HSI','N225'],axis=1).plot()\n",
    "plt.show()\n",
    "\n",
    "#나스닥만\n",
    "stock_index_6.loc[:,'NDAQ'].plot()\n",
    "plt.show()"
   ]
  },
  {
   "cell_type": "markdown",
   "id": "c8be7cbb",
   "metadata": {},
   "source": [
    "## 채권 그래프"
   ]
  },
  {
   "cell_type": "code",
   "execution_count": null,
   "id": "f37c5af8",
   "metadata": {
    "ExecuteTime": {
     "end_time": "2022-04-26T07:50:15.721399Z",
     "start_time": "2022-04-26T07:50:15.721399Z"
    },
    "id": "f37c5af8",
    "outputId": "1ff23c67-9ed7-4f12-8587-3d0efb490d49"
   },
   "outputs": [],
   "source": [
    "# 채권 그래프\n",
    "stock_index_6.loc[:,'KR_3year_yield(%)':'US_10year_yeild(%)'].plot()\n",
    "plt.show()"
   ]
  },
  {
   "cell_type": "markdown",
   "id": "14f1c9c3",
   "metadata": {},
   "source": [
    "## 원자재 그래프"
   ]
  },
  {
   "cell_type": "code",
   "execution_count": null,
   "id": "10165a1b",
   "metadata": {
    "ExecuteTime": {
     "end_time": "2022-04-26T07:50:15.725383Z",
     "start_time": "2022-04-26T07:50:15.725383Z"
    },
    "id": "10165a1b",
    "outputId": "0f6e686d-7a52-4aad-fe72-02b702c2d0a0"
   },
   "outputs": [],
   "source": [
    "# 원자재 그래프\n",
    "stock_index_6.loc[:,'Gold($)'].plot()\n",
    "plt.show()\n",
    "\n",
    "stock_index_6.loc[:,'Dubai(BPD)':'WTI(BPD)'].plot()\n",
    "plt.show()"
   ]
  },
  {
   "cell_type": "markdown",
   "id": "7ef1c9cb",
   "metadata": {},
   "source": [
    "## 환율 그래프"
   ]
  },
  {
   "cell_type": "code",
   "execution_count": null,
   "id": "2e91180b",
   "metadata": {
    "ExecuteTime": {
     "end_time": "2022-04-26T07:50:15.728376Z",
     "start_time": "2022-04-26T07:50:15.728376Z"
    },
    "id": "2e91180b",
    "outputId": "b2d49978-35c6-44ce-900c-32a6e3e2307e"
   },
   "outputs": [],
   "source": [
    "# 환율 그래프\n",
    "stock_index_6.loc[:,'JPY(1YEN)'].plot()\n",
    "plt.show()\n",
    "\n",
    "stock_index_6.loc[:,'USD(1$)'].plot()\n",
    "plt.show()"
   ]
  },
  {
   "cell_type": "markdown",
   "id": "54200888",
   "metadata": {},
   "source": [
    "## 자산별 통계 정보(평균, 중위값, 표준편차, 최대값, 최소값)"
   ]
  },
  {
   "cell_type": "code",
   "execution_count": null,
   "id": "66fb876e",
   "metadata": {
    "ExecuteTime": {
     "end_time": "2022-04-26T07:50:15.731367Z",
     "start_time": "2022-04-26T07:50:15.731367Z"
    },
    "id": "66fb876e",
    "outputId": "b7c375b8-8dd5-4c5c-8ff3-c18f13c424f4"
   },
   "outputs": [],
   "source": [
    "import seaborn as sns\n",
    "stock_df = stock_index_6[stock_index.columns]\n",
    "gold_df = stock_index_6['Gold($)']\n",
    "oil_df = stock_index_6[oil.columns]\n",
    "bill_df = stock_index_6[['KR_3year_yield(%)','US_10year_yeild(%)']]\n",
    "exchange_df = stock_index_6[exchange.columns]\n",
    "\n",
    "def agg(df):\n",
    "    info = df.agg(['mean','median','std','max','min'])\n",
    "    return pd.DataFrame(info)\n",
    "\n",
    "\n",
    "# 주가 평균,중위값,표준편차,최대값,최소값\n",
    "plt.plot(agg(stock_df))\n",
    "plt.title('stock_index_info')\n",
    "plt.legend(stock_df.columns)\n",
    "plt.show()\n",
    "print(pd.DataFrame(agg(stock_df)))\n",
    "\n",
    "\n",
    "# 금 평균,중위값,표준편차,최대값,최소값\n",
    "plt.plot(agg(gold_df))\n",
    "plt.title('gold_info')\n",
    "plt.show()\n",
    "print(pd.DataFrame(agg(gold_df)))\n",
    "\n",
    "\n",
    "# 원유 평균,중위값,표준편차,최대값,최소값\n",
    "plt.plot(agg(oil_df))\n",
    "plt.title('oil_info')\n",
    "plt.legend(oil_df.columns)\n",
    "plt.show()\n",
    "print(pd.DataFrame(agg(oil_df)))\n",
    "\n",
    "\n",
    "# 채권 평균,중위값,표준편차,최대값,최소값\n",
    "plt.plot(agg(bill_df))\n",
    "plt.title('bill_info')\n",
    "plt.legend(bill_df.columns)\n",
    "plt.show()\n",
    "print(pd.DataFrame(agg(bill_df)))\n",
    "\n",
    "\n",
    "# 환율 평균,중위값,표준편차,최대값,최소값\n",
    "plt.plot(agg(exchange_df))\n",
    "plt.title('exchange_info')\n",
    "plt.legend(exchange_df.columns)\n",
    "plt.show()\n",
    "print(pd.DataFrame(agg(exchange_df)))"
   ]
  },
  {
   "cell_type": "markdown",
   "id": "36488500",
   "metadata": {},
   "source": [
    "# 데이터 스케일링\n",
    "* 종류\n",
    "    - standard\n",
    "    - minmax\n",
    "    - log\n",
    "    - log1p\n",
    "    \n",
    "## 주의사항\n",
    "* log, log1p가 음수에 대해서 결측치로 반환한다.!!!!!!!!!!!!!!!!!!!!!!!!!!!!!\n",
    "* 결측치: 2020-4-20 WTI(BPD) -37.64 너무 커서 log1p도 결측치 반환한다.\n",
    "* log,log1p에 대해서 결측치에 interpolate를 적용했다.... 되려나???????????"
   ]
  },
  {
   "cell_type": "code",
   "execution_count": null,
   "id": "209b94fa",
   "metadata": {
    "ExecuteTime": {
     "end_time": "2022-04-26T07:50:15.738364Z",
     "start_time": "2022-04-26T07:50:15.738364Z"
    }
   },
   "outputs": [],
   "source": [
    "# 전체 데이터에 대한 스케일링(standard, minmax,log,log1)\n",
    "# standard_df: standard_scaler\n",
    "# minmax_df: minmax_scaler\n",
    "# log_df: log변환\n",
    "# log1_df: log(1+x) 변환\n",
    "\n",
    "\n",
    "\n",
    "from sklearn.preprocessing import StandardScaler, MinMaxScaler\n",
    "import numpy as np\n",
    "\n",
    "\n",
    "log_df = np.log(stock_index_6)\n",
    "log_df.fillna(0,inplace=True)\n",
    "\n",
    "log1_df = np.log1p(stock_index_6)\n",
    "log1_df.fillna(0,inplace=True)\n",
    "\n",
    "standard = StandardScaler()\n",
    "minmax = MinMaxScaler()\n",
    "\n",
    "standard_scale = standard.fit_transform(stock_index_6)\n",
    "minmax_scale = minmax.fit_transform(stock_index_6)\n",
    "\n",
    "standard_df = pd.DataFrame(standard_scale,columns=stock_index_6.columns,index=stock_index_6.index)\n",
    "minmax_df = pd.DataFrame(minmax_scale,columns=stock_index_6.columns,index=stock_index_6.index)\n",
    "\n",
    "\n",
    "\n",
    "# 스케일링 데이터 시각화\n",
    "standard_df.plot()\n",
    "plt.title('standard scale')\n",
    "\n",
    "minmax_df.plot()\n",
    "plt.title('minmax scale')\n",
    "\n",
    "log_df.plot()\n",
    "plt.title('log scale')\n",
    "\n",
    "log1_df.plot()\n",
    "plt.title('log1 scale')"
   ]
  },
  {
   "cell_type": "markdown",
   "id": "875b2c3f",
   "metadata": {},
   "source": [
    "## scaled data의 feature target 구분"
   ]
  },
  {
   "cell_type": "code",
   "execution_count": null,
   "id": "fa8fad5f",
   "metadata": {
    "ExecuteTime": {
     "end_time": "2022-04-26T07:50:15.741341Z",
     "start_time": "2022-04-26T07:50:15.741341Z"
    }
   },
   "outputs": [],
   "source": [
    "# feature, target 구분\n",
    "\n",
    "features=stock_index_6.loc[:,'NDAQ':]\n",
    "target = stock_index_6['SAMSUNG']\n",
    "\n",
    "\n",
    "standard_df_features = standard_df.loc[:,'NDAQ':]\n",
    "standard_df_target = standard_df['SAMSUNG']\n",
    "\n",
    "\n",
    "minmax_df_features = minmax_df.loc[:,'NDAQ':]\n",
    "minmax_df_target = minmax_df['SAMSUNG']\n",
    "\n",
    "\n",
    "log_df_features = log_df.loc[:,'NDAQ':]\n",
    "log_df_target = log_df['SAMSUNG']\n",
    "\n",
    "\n",
    "log1_df_features = log1_df.loc[:,'NDAQ':]\n",
    "log1_df_target = log1_df['SAMSUNG']"
   ]
  },
  {
   "cell_type": "markdown",
   "id": "19bf9aff",
   "metadata": {},
   "source": [
    "## 종속변수(삼성전자)와 독립변수에 대한 산점도"
   ]
  },
  {
   "cell_type": "code",
   "execution_count": null,
   "id": "0fbb040b",
   "metadata": {
    "ExecuteTime": {
     "end_time": "2022-04-26T07:50:15.744333Z",
     "start_time": "2022-04-26T07:50:15.744333Z"
    }
   },
   "outputs": [],
   "source": [
    "# raw-data에 대한 삼성전자와의 산점도 분포-> 스케일링 데이터는 크기가 줄어들 뿐, 실질적인 모양은 변하지 않는다. 이게 의미가 있나????\n",
    "import matplotlib.pyplot as plt\n",
    "\n",
    "def scatter(df):\n",
    "    for i in df.columns:\n",
    "        plt.scatter(df[i],target)\n",
    "        plt.title(i)\n",
    "        plt.show()\n",
    "\n",
    "scatter(stock_index_6)\n",
    "\n",
    "# scatter: standard\n",
    "# scatter(standard_df)"
   ]
  },
  {
   "cell_type": "markdown",
   "id": "38cecd30",
   "metadata": {},
   "source": [
    "## 상관계수 행렬"
   ]
  },
  {
   "cell_type": "code",
   "execution_count": null,
   "id": "f4288d70",
   "metadata": {
    "ExecuteTime": {
     "end_time": "2022-04-26T07:50:15.747330Z",
     "start_time": "2022-04-26T07:50:15.747330Z"
    }
   },
   "outputs": [],
   "source": [
    "# raw 데이터에 대한 공분산 행렬 ->  스케일링 데이터와 조금씩 차이가 있다.\n",
    "from sklearn.metrics import accuracy_score\n",
    "import seaborn as sns\n",
    "\n",
    "stock_index_6.corr()\n",
    "standard_df.corr()\n",
    "minmax_df.corr()\n",
    "log_df.corr()\n",
    "log1_df.corr()\n",
    "\n",
    "plt.figure(figsize=(14,14))\n",
    "sns.heatmap(log1_df.corr(),annot=True, fmt='.3g')"
   ]
  },
  {
   "cell_type": "code",
   "execution_count": null,
   "id": "c67c7bf1",
   "metadata": {
    "ExecuteTime": {
     "end_time": "2022-04-26T07:50:15.751313Z",
     "start_time": "2022-04-26T07:50:15.751313Z"
    }
   },
   "outputs": [],
   "source": [
    "# 주식, 삼성전자 상관관계 \n",
    "def correlation(a,b):\n",
    "    stock_co = pd.merge(target,features.loc[:,a:b],on=target.index,how='left')\n",
    "    stock_co.rename({'key_0':'Date'},axis=1,inplace=True)\n",
    "    stock_co.set_index('Date',inplace=True)\n",
    "    return stock_co.corr()\n",
    "\n",
    "stock_co = correlation('NDAQ','SOX')\n",
    "stock_co\n",
    "\n",
    "plt.figure(figsize=(14,14))\n",
    "sns.heatmap(stock_co,annot=True, fmt='.1g')"
   ]
  },
  {
   "cell_type": "code",
   "execution_count": null,
   "id": "cb2c58da",
   "metadata": {
    "ExecuteTime": {
     "end_time": "2022-04-26T07:50:15.757297Z",
     "start_time": "2022-04-26T07:50:15.757297Z"
    }
   },
   "outputs": [],
   "source": [
    "# 채권 삼성전자 상관관계\n",
    "bill_co = correlation('KR_3year_yield(%)','US_10year_yeild(%)')\n",
    "bill_co\n",
    "\n",
    "\n",
    "plt.figure(figsize=(14,14))\n",
    "sns.heatmap(bill_co,annot=True, fmt='.1g')"
   ]
  },
  {
   "cell_type": "code",
   "execution_count": null,
   "id": "6be3c251",
   "metadata": {
    "ExecuteTime": {
     "end_time": "2022-04-26T07:50:15.760290Z",
     "start_time": "2022-04-26T07:50:15.760290Z"
    }
   },
   "outputs": [],
   "source": [
    "# 원자재 삼성전자 상관관계\n",
    "commodity_co = correlation('Gold($)','WTI(BPD)')\n",
    "commodity_co\n",
    "\n",
    "plt.figure(figsize=(14,14))\n",
    "sns.heatmap(commodity_co,annot=True, fmt='.1g')"
   ]
  },
  {
   "cell_type": "code",
   "execution_count": null,
   "id": "c44eb6bf",
   "metadata": {
    "ExecuteTime": {
     "end_time": "2022-04-26T07:50:15.763284Z",
     "start_time": "2022-04-26T07:50:15.763284Z"
    }
   },
   "outputs": [],
   "source": [
    "# 환율,삼성전자 상관관계\n",
    "exchange_co = correlation('JPY(1YEN)','USD(1$)')\n",
    "exchange_co\n",
    "\n",
    "plt.figure(figsize=(14,14))\n",
    "sns.heatmap(exchange_co,annot=True, fmt='.3g')"
   ]
  },
  {
   "cell_type": "markdown",
   "id": "9b7ca892",
   "metadata": {},
   "source": [
    "# feature_selection\n",
    "* 기타 파라미터 조정 없어서 조정 필요한 듯....-> GridSearchCV?????\n",
    "\n",
    "## raw data: Lasso, Ridge, random forest"
   ]
  },
  {
   "cell_type": "code",
   "execution_count": null,
   "id": "f0f50693",
   "metadata": {
    "ExecuteTime": {
     "end_time": "2022-04-26T07:50:15.770268Z",
     "start_time": "2022-04-26T07:50:15.769275Z"
    }
   },
   "outputs": [],
   "source": [
    "# feature selection->raw data: Lasso, Ridge, random forest\n",
    "from sklearn.linear_model import Lasso, Ridge\n",
    "from sklearn.model_selection import train_test_split\n",
    "from sklearn.ensemble import RandomForestRegressor\n",
    "import numpy as np\n",
    "import seaborn as sns\n",
    "\n",
    "# Lasso를 이용한 모형의 상관계수\n",
    "lasso = Lasso()\n",
    "lasso.fit(features,target)\n",
    "coeff = pd.Series(data=lasso.coef_,index=features.columns)\n",
    "coeff = coeff.sort_values(ascending=True)\n",
    "sns.barplot(x=coeff.values,y=coeff.index)\n",
    "plt.show()\n",
    "\n",
    "\n",
    "\n",
    "# Ridge를 이용한 모형의 상관계수\n",
    "ridge = Ridge()\n",
    "ridge.fit(features,target)\n",
    "coeff = pd.Series(data=ridge.coef_,index=features.columns)\n",
    "coeff = coeff.sort_values(ascending=True)\n",
    "sns.barplot(x=coeff.values,y=coeff.index)\n",
    "plt.show()\n",
    "\n",
    "\n",
    "# RandomForest를 이용한 모형의 중요도\n",
    "rf_rg=RandomForestRegressor()\n",
    "# X_train.X_test,y_train,y_test = train_test_split(features,target,test_size=0.3,random_state=156)\n",
    "\n",
    "rf_rg.fit(features,target)\n",
    "\n",
    "sns.barplot(x=rf_rg.feature_importances_,y=features.columns)\n",
    "plt.show()"
   ]
  },
  {
   "cell_type": "markdown",
   "id": "614d2506",
   "metadata": {},
   "source": [
    "## standardscale: Lasso, Ridge, random forest"
   ]
  },
  {
   "cell_type": "code",
   "execution_count": null,
   "id": "14fb0385",
   "metadata": {
    "ExecuteTime": {
     "end_time": "2022-04-26T07:50:15.774252Z",
     "start_time": "2022-04-26T07:50:15.774252Z"
    }
   },
   "outputs": [],
   "source": [
    "# # feature selection: standardscale\n",
    "\n",
    "# lasso = Lasso()\n",
    "# ridge = Ridge()\n",
    "# randomforest= RandomForestRegressor()\n",
    "\n",
    "# lasso.fit(standard_df.loc[:,'NDAQ':],standard_df['SAMSUNG'])\n",
    "# ridge.fit(standard_df.loc[:,'NDAQ':],standard_df['SAMSUNG'])\n",
    "# randomforest.fit((standard_df.loc[:,'NDAQ':],standard_df['SAMSUNG']))\n",
    "\n",
    "# coeff = pd.Series(data=lasso.coef_,index=features.columns)\n",
    "# coeff = coeff.sort_values(ascending=True)\n",
    "# sns.barplot(x=coeff.values,y=coeff.index)\n",
    "# plt.show()\n",
    "\n",
    "\n",
    "\n",
    "#######################################################\n",
    "####################################################\n",
    "### 음수값이 -1 보다 크면 log1p를 해도 결측값이 나온닼ㅋㅋㅋㅋㅋㅋㅋㅋㅋㅋㅋㅋㅋㅋㅋㅋ\n",
    "####################################################\n",
    "####################################################\n",
    "######## 그냥 interporate를 해도 되려나????? 원체 큰 음수값인데?????\n",
    "\n",
    "\n",
    "# Lasso를 이용한 모형의 상관계수\n",
    "lasso = Lasso()\n",
    "lasso.fit(standard_df_features,target)\n",
    "coeff = pd.Series(data=lasso.coef_,index=features.columns)\n",
    "coeff = coeff.sort_values(ascending=True)\n",
    "sns.barplot(x=coeff.values,y=coeff.index)\n",
    "plt.show()\n",
    "\n",
    "\n",
    "\n",
    "# Ridge를 이용한 모형의 상관계수\n",
    "ridge = Ridge()\n",
    "ridge.fit(standard_df_features,target)\n",
    "coeff = pd.Series(data=ridge.coef_,index=features.columns)\n",
    "coeff = coeff.sort_values(ascending=True)\n",
    "sns.barplot(x=coeff.values,y=coeff.index)\n",
    "plt.show()\n",
    "\n",
    "\n",
    "# RandomForest를 이용한 모형의 중요도\n",
    "rf_rg=RandomForestRegressor()\n",
    "# X_train.X_test,y_train,y_test = train_test_split(features,target,test_size=0.3,random_state=156)\n",
    "\n",
    "rf_rg.fit(standard_df_features,target)\n",
    "\n",
    "sns.barplot(x=rf_rg.feature_importances_,y=features.columns)\n",
    "plt.show()\n"
   ]
  },
  {
   "cell_type": "markdown",
   "id": "274a2954",
   "metadata": {},
   "source": [
    "## minmaxscale: Lasso, Ridge, random forest"
   ]
  },
  {
   "cell_type": "code",
   "execution_count": null,
   "id": "512041fe",
   "metadata": {
    "ExecuteTime": {
     "end_time": "2022-04-26T07:50:15.777244Z",
     "start_time": "2022-04-26T07:50:15.777244Z"
    }
   },
   "outputs": [],
   "source": [
    "# feature_selection: minmax\n",
    "\n",
    "# Lasso를 이용한 모형의 상관계수\n",
    "lasso = Lasso()\n",
    "lasso.fit(minmax_df_features,target)\n",
    "coeff = pd.Series(data=lasso.coef_,index=features.columns)\n",
    "coeff = coeff.sort_values(ascending=True)\n",
    "sns.barplot(x=coeff.values,y=coeff.index)\n",
    "plt.show()\n",
    "\n",
    "\n",
    "\n",
    "# Ridge를 이용한 모형의 상관계수\n",
    "ridge = Ridge()\n",
    "ridge.fit(minmax_df_features,target)\n",
    "coeff = pd.Series(data=ridge.coef_,index=features.columns)\n",
    "coeff = coeff.sort_values(ascending=True)\n",
    "sns.barplot(x=coeff.values,y=coeff.index)\n",
    "plt.show()\n",
    "\n",
    "\n",
    "# RandomForest를 이용한 모형의 중요도\n",
    "rf_rg=RandomForestRegressor()\n",
    "# X_train.X_test,y_train,y_test = train_test_split(features,target,test_size=0.3,random_state=156)\n",
    "\n",
    "rf_rg.fit(minmax_df_features,target)\n",
    "\n",
    "sns.barplot(x=rf_rg.feature_importances_,y=features.columns)\n",
    "plt.show()"
   ]
  },
  {
   "cell_type": "markdown",
   "id": "d26653c4",
   "metadata": {},
   "source": [
    "## logscale: Lasso, Ridge, random forest"
   ]
  },
  {
   "cell_type": "code",
   "execution_count": null,
   "id": "8a941510",
   "metadata": {
    "ExecuteTime": {
     "end_time": "2022-04-26T07:50:15.780236Z",
     "start_time": "2022-04-26T07:50:15.780236Z"
    }
   },
   "outputs": [],
   "source": [
    "# feature_selection: log\n",
    "\n",
    "log_df = log_df.interpolate(method='time')\n",
    "\n",
    "# Lasso를 이용한 모형의 상관계수\n",
    "lasso = Lasso()\n",
    "lasso.fit(log_df_features,target)\n",
    "coeff = pd.Series(data=lasso.coef_,index=features.columns)\n",
    "coeff = coeff.sort_values(ascending=True)\n",
    "sns.barplot(x=coeff.values,y=coeff.index)\n",
    "plt.show()\n",
    "\n",
    "\n",
    "\n",
    "# Ridge를 이용한 모형의 상관계수\n",
    "ridge = Ridge()\n",
    "ridge.fit(log_df_features,target)\n",
    "coeff = pd.Series(data=ridge.coef_,index=features.columns)\n",
    "coeff = coeff.sort_values(ascending=True)\n",
    "sns.barplot(x=coeff.values,y=coeff.index)\n",
    "plt.show()\n",
    "\n",
    "\n",
    "# RandomForest를 이용한 모형의 중요도\n",
    "rf_rg=RandomForestRegressor()\n",
    "# X_train.X_test,y_train,y_test = train_test_split(features,target,test_size=0.3,random_state=156)\n",
    "\n",
    "rf_rg.fit(log_df_features,target)\n",
    "\n",
    "sns.barplot(x=rf_rg.feature_importances_,y=features.columns)\n",
    "plt.show()"
   ]
  },
  {
   "cell_type": "markdown",
   "id": "a7ebbb61",
   "metadata": {},
   "source": [
    "## log1pscale: Lasso, Ridge, random forest"
   ]
  },
  {
   "cell_type": "code",
   "execution_count": null,
   "id": "4ede5994",
   "metadata": {
    "ExecuteTime": {
     "end_time": "2022-04-26T07:50:15.783228Z",
     "start_time": "2022-04-26T07:50:15.783228Z"
    }
   },
   "outputs": [],
   "source": [
    "# feature_selection: log1p\n",
    "\n",
    "# Lasso를 이용한 모형의 상관계수\n",
    "lasso = Lasso()\n",
    "lasso.fit(log1_df_features,target)\n",
    "coeff = pd.Series(data=lasso.coef_,index=features.columns)\n",
    "coeff = coeff.sort_values(ascending=True)\n",
    "sns.barplot(x=coeff.values,y=coeff.index)\n",
    "plt.show()\n",
    "\n",
    "\n",
    "\n",
    "# Ridge를 이용한 모형의 상관계수\n",
    "ridge = Ridge()\n",
    "ridge.fit(log1_df_features,target)\n",
    "coeff = pd.Series(data=ridge.coef_,index=features.columns)\n",
    "coeff = coeff.sort_values(ascending=True)\n",
    "sns.barplot(x=coeff.values,y=coeff.index)\n",
    "plt.show()\n",
    "\n",
    "\n",
    "# RandomForest를 이용한 모형의 중요도\n",
    "rf_rg=RandomForestRegressor()\n",
    "# X_train.X_test,y_train,y_test = train_test_split(features,target,test_size=0.3,random_state=156)\n",
    "\n",
    "rf_rg.fit(log1_df_features,target)\n",
    "\n",
    "sns.barplot(x=rf_rg.feature_importances_,y=features.columns)\n",
    "plt.show()"
   ]
  },
  {
   "cell_type": "markdown",
   "id": "e78cff5b",
   "metadata": {},
   "source": [
    "## PCA:Lasso, Ridge, random forest"
   ]
  },
  {
   "cell_type": "code",
   "execution_count": null,
   "id": "fd548aea",
   "metadata": {
    "ExecuteTime": {
     "end_time": "2022-04-26T07:50:15.787231Z",
     "start_time": "2022-04-26T07:50:15.787231Z"
    }
   },
   "outputs": [],
   "source": [
    "from sklearn.ensemble import RandomForestRegressor\n",
    "from sklearn.linear_model import Lasso,Ridge\n",
    "from sklearn.decomposition import PCA\n",
    "\n",
    "log_df_features = standard_df.loc[:,'NDAQ':]\n",
    "\n",
    "pca = PCA(n_components=4)\n",
    "pca_feature = pd.DataFrame(pca.fit_transform(log_df_features),index=log_df_features.index,columns=['1','2','3','4'])\n",
    "\n",
    "# Lasso를 이용한 모형의 상관계수\n",
    "lasso = Lasso()\n",
    "lasso.fit(pca_feature,target)\n",
    "coeff = pd.Series(data=lasso.coef_,index=pca_feature.columns)\n",
    "coeff = coeff.sort_values(ascending=True)\n",
    "sns.barplot(x=coeff.values,y=coeff.index)\n",
    "plt.show()\n",
    "\n",
    "\n",
    "# Ridge를 이용한 모형의 상관계수\n",
    "ridge = Ridge()\n",
    "ridge.fit(pca_feature,target)\n",
    "coeff = pd.Series(data=ridge.coef_,index=pca_feature.columns)\n",
    "coeff = coeff.sort_values(ascending=True)\n",
    "sns.barplot(x=coeff.values,y=coeff.index)\n",
    "plt.show()\n",
    "\n",
    "\n",
    "# RandomForest를 이용한 모형의 중요도\n",
    "rf_rg=RandomForestRegressor()\n",
    "# X_train.X_test,y_train,y_test = train_test_split(features,target,test_size=0.3,random_state=156)\n",
    "\n",
    "rf_rg.fit(pca_feature,target)\n",
    "\n",
    "sns.barplot(x=rf_rg.feature_importances_,y=pca_feature.columns)\n",
    "plt.show()\n",
    "\n",
    "pca.explained_variance_ratio_\n",
    "\n",
    "\n",
    "plt.figure(figsize=(14,14))\n",
    "sns.heatmap(pca_feature.corr(),annot=True, fmt='.1g')\n"
   ]
  },
  {
   "cell_type": "markdown",
   "id": "ae1177f4",
   "metadata": {},
   "source": [
    "## 상관관계 분석에 따라서 연관관계가 높았던 sector별 pca\n",
    "* 스케일링 : 로그 스케일링\n",
    "* 주가: 항셍 빼고 -> 1개\n",
    "* 채권: 2개 -> 1개\n",
    "* 원자재: 유종 1개, + 금\n",
    "* 환율:2개 -> 1개\n",
    "\n",
    "-모델별 상관계수 및 중요성 크기 순서\n",
    "    * 릿지,라쏘: "
   ]
  },
  {
   "cell_type": "code",
   "execution_count": null,
   "id": "6318ccf5",
   "metadata": {
    "ExecuteTime": {
     "end_time": "2022-04-26T07:50:15.790208Z",
     "start_time": "2022-04-26T07:50:15.790208Z"
    }
   },
   "outputs": [],
   "source": [
    "log_df_features = log_df_features.loc[:,'NDAQ':]\n",
    "\n",
    "#주식 스케일링\n",
    "pca_stock = PCA(n_components=1)\n",
    "pca_stock = pca_stock.fit_transform(log_df_features[['NDAQ','KOSPI','N225','SOX']])\n",
    "pca_stock = pd.DataFrame(pca_stock,columns=['STOCK1'],index=log_df_features.index)\n",
    "pca_stock\n",
    "\n",
    "# 채권\n",
    "pca_bill = PCA(n_components=1)\n",
    "pca_bill = pca_bill.fit_transform(log_df_features[['KR_3year_yield(%)','US_10year_yeild(%)']])\n",
    "pca_bill = pd.DataFrame(pca_bill,columns=['BILL'],index=log_df_features.index)\n",
    "\n",
    "# 유가\n",
    "pca_oil = PCA(n_components=1)\n",
    "pca_oil = pca_oil.fit_transform(log_df_features[['Dubai(BPD)','Brent(BPD)','WTI(BPD)']])\n",
    "pca_oil = pd.DataFrame(pca_oil,columns=['OIL'],index=log_df_features.index)\n",
    "\n",
    "# 환율\n",
    "pca_exchange = PCA(n_components=1)\n",
    "pca_exchange = pca_exchange.fit_transform(log_df_features[['JPY(1YEN)','USD(1$)']])\n",
    "pca_exchange = pd.DataFrame(pca_exchange,columns=['EXCHANGE'],index=log_df_features.index)\n",
    "pca_exchange\n",
    "\n",
    "pca_df = pd.concat([pca_stock,log_df_features['HSI'],pca_bill,log_df_features['Gold($)'],pca_oil,pca_exchange],axis=1)\n",
    "\n",
    "\n",
    "plt.figure(figsize=(14,14))\n",
    "sns.heatmap(pca_df.corr(),annot=True, fmt='.1g')"
   ]
  },
  {
   "cell_type": "code",
   "execution_count": null,
   "id": "93785774",
   "metadata": {
    "ExecuteTime": {
     "end_time": "2022-04-26T07:50:15.792205Z",
     "start_time": "2022-04-26T07:50:15.792205Z"
    }
   },
   "outputs": [],
   "source": [
    "# Lasso를 이용한 모형의 상관계수\n",
    "lasso = Lasso()\n",
    "lasso.fit(pca_df,target)\n",
    "coeff = pd.Series(data=lasso.coef_,index=pca_df.columns)\n",
    "coeff = coeff.sort_values(ascending=True)\n",
    "sns.barplot(x=coeff.values,y=coeff.index)\n",
    "plt.show()\n",
    "\n",
    "\n",
    "\n",
    "# Ridge를 이용한 모형의 상관계수\n",
    "ridge = Ridge()\n",
    "ridge.fit(pca_df,target)\n",
    "coeff = pd.Series(data=ridge.coef_,index=pca_df.columns)\n",
    "coeff = coeff.sort_values(ascending=True)\n",
    "sns.barplot(x=coeff.values,y=coeff.index)\n",
    "plt.show()\n",
    "\n",
    "\n",
    "# RandomForest를 이용한 모형의 중요도\n",
    "rf_rg=RandomForestRegressor()\n",
    "# X_train.X_test,y_train,y_test = train_test_split(features,target,test_size=0.3,random_state=156)\n",
    "\n",
    "rf_rg.fit(pca_df,target)\n",
    "\n",
    "sns.barplot(x=rf_rg.feature_importances_,y=pca_df.columns)\n",
    "plt.show()\n",
    "\n",
    "pca.explained_variance_ratio_\n"
   ]
  },
  {
   "cell_type": "markdown",
   "id": "6c772458",
   "metadata": {},
   "source": [
    "## 금의 채권 편입"
   ]
  },
  {
   "cell_type": "code",
   "execution_count": null,
   "id": "bb54b2f9",
   "metadata": {
    "ExecuteTime": {
     "end_time": "2022-04-26T07:50:15.796193Z",
     "start_time": "2022-04-26T07:50:15.796193Z"
    }
   },
   "outputs": [],
   "source": [
    "# 금의 채권 편입\n",
    "log_df_features = log_df_features.loc[:,'NDAQ':]\n",
    "\n",
    "#주식 스케일링\n",
    "pca_stock = PCA(n_components=1)\n",
    "pca_stock = pca_stock.fit_transform(log_df_features[['NDAQ','KOSPI','N225','SOX']])\n",
    "pca_stock = pd.DataFrame(pca_stock,columns=['STOCK1'],index=log_df_features.index)\n",
    "pca_stock\n",
    "\n",
    "# 채권\n",
    "pca_bill = PCA(n_components=1)\n",
    "pca_bill = pca_bill.fit_transform(log_df_features[['KR_3year_yield(%)','US_10year_yeild(%)','Gold($)']])\n",
    "pca_bill = pd.DataFrame(pca_bill,columns=['BILL'],index=log_df_features.index)\n",
    "\n",
    "# 유가\n",
    "pca_oil = PCA(n_components=1)\n",
    "pca_oil = pca_oil.fit_transform(log_df_features[['Dubai(BPD)','Brent(BPD)','WTI(BPD)']])\n",
    "pca_oil = pd.DataFrame(pca_oil,columns=['OIL'],index=log_df_features.index)\n",
    "\n",
    "# 환율\n",
    "pca_exchange = PCA(n_components=1)\n",
    "pca_exchange = pca_exchange.fit_transform(log_df_features[['JPY(1YEN)','USD(1$)']])\n",
    "pca_exchange = pd.DataFrame(pca_exchange,columns=['EXCHANGE'],index=log_df_features.index)\n",
    "pca_exchange\n",
    "\n",
    "pca_df = pd.concat([pca_stock,log_df_features['HSI'],pca_bill,pca_oil,pca_exchange],axis=1)\n",
    "\n",
    "\n",
    "plt.figure(figsize=(14,14))\n",
    "sns.heatmap(pca_df.corr(),annot=True, fmt='.1g')"
   ]
  },
  {
   "cell_type": "code",
   "execution_count": null,
   "id": "81893dd8",
   "metadata": {
    "ExecuteTime": {
     "end_time": "2022-04-26T07:50:15.799191Z",
     "start_time": "2022-04-26T07:50:15.799191Z"
    }
   },
   "outputs": [],
   "source": [
    "# Lasso를 이용한 모형의 상관계수\n",
    "lasso = Lasso()\n",
    "lasso.fit(pca_df,target)\n",
    "coeff = pd.Series(data=lasso.coef_,index=pca_df.columns)\n",
    "coeff = coeff.sort_values(ascending=True)\n",
    "sns.barplot(x=coeff.values,y=coeff.index)\n",
    "plt.show()\n",
    "\n",
    "\n",
    "\n",
    "# Ridge를 이용한 모형의 상관계수\n",
    "ridge = Ridge()\n",
    "ridge.fit(pca_df,target)\n",
    "coeff = pd.Series(data=ridge.coef_,index=pca_df.columns)\n",
    "coeff = coeff.sort_values(ascending=True)\n",
    "sns.barplot(x=coeff.values,y=coeff.index)\n",
    "plt.show()\n",
    "\n",
    "\n",
    "# RandomForest를 이용한 모형의 중요도\n",
    "rf_rg=RandomForestRegressor()\n",
    "# X_train.X_test,y_train,y_test = train_test_split(features,target,test_size=0.3,random_state=156)\n",
    "\n",
    "rf_rg.fit(pca_df,target)\n",
    "\n",
    "sns.barplot(x=rf_rg.feature_importances_,y=pca_df.columns)\n",
    "plt.show()\n",
    "\n",
    "pca.explained_variance_ratio_\n"
   ]
  },
  {
   "cell_type": "markdown",
   "id": "078e807c",
   "metadata": {},
   "source": [
    "## 금의 주식 편입"
   ]
  },
  {
   "cell_type": "code",
   "execution_count": null,
   "id": "d72cd2f8",
   "metadata": {
    "ExecuteTime": {
     "end_time": "2022-04-26T07:50:15.802179Z",
     "start_time": "2022-04-26T07:50:15.802179Z"
    }
   },
   "outputs": [],
   "source": [
    "# 금의 주식 편입\n",
    "log_df_features = log_df_features.loc[:,'NDAQ':]\n",
    "\n",
    "#주식 스케일링\n",
    "pca_stock = PCA(n_components=1)\n",
    "pca_stock = pca_stock.fit_transform(log_df_features[['NDAQ','KOSPI','N225','SOX','Gold($)']])\n",
    "pca_stock = pd.DataFrame(pca_stock,columns=['STOCK1'],index=log_df_features.index)\n",
    "pca_stock\n",
    "\n",
    "# 채권\n",
    "pca_bill = PCA(n_components=1)\n",
    "pca_bill = pca_bill.fit_transform(log_df_features[['KR_3year_yield(%)','US_10year_yeild(%)']])\n",
    "pca_bill = pd.DataFrame(pca_bill,columns=['BILL'],index=log_df_features.index)\n",
    "\n",
    "# 유가\n",
    "pca_oil = PCA(n_components=1)\n",
    "pca_oil = pca_oil.fit_transform(log_df_features[['Dubai(BPD)','Brent(BPD)','WTI(BPD)']])\n",
    "pca_oil = pd.DataFrame(pca_oil,columns=['OIL'],index=log_df_features.index)\n",
    "\n",
    "# 환율\n",
    "pca_exchange = PCA(n_components=1)\n",
    "pca_exchange = pca_exchange.fit_transform(log_df_features[['JPY(1YEN)','USD(1$)']])\n",
    "pca_exchange = pd.DataFrame(pca_exchange,columns=['EXCHANGE'],index=log_df_features.index)\n",
    "pca_exchange\n",
    "\n",
    "pca_df = pd.concat([pca_stock,log_df_features['HSI'],pca_bill,pca_oil,pca_exchange],axis=1)\n",
    "\n",
    "\n",
    "plt.figure(figsize=(14,14))\n",
    "sns.heatmap(pca_df.corr(),annot=True, fmt='.1g')"
   ]
  },
  {
   "cell_type": "code",
   "execution_count": null,
   "id": "97201336",
   "metadata": {
    "ExecuteTime": {
     "end_time": "2022-04-26T07:50:15.807165Z",
     "start_time": "2022-04-26T07:50:15.807165Z"
    }
   },
   "outputs": [],
   "source": [
    "# Lasso를 이용한 모형의 상관계수\n",
    "lasso = Lasso()\n",
    "lasso.fit(pca_df,target)\n",
    "coeff = pd.Series(data=lasso.coef_,index=pca_df.columns)\n",
    "coeff = coeff.sort_values(ascending=True)\n",
    "sns.barplot(x=coeff.values,y=coeff.index)\n",
    "plt.show()\n",
    "\n",
    "\n",
    "\n",
    "# Ridge를 이용한 모형의 상관계수\n",
    "ridge = Ridge()\n",
    "ridge.fit(pca_df,target)\n",
    "coeff = pd.Series(data=ridge.coef_,index=pca_df.columns)\n",
    "coeff = coeff.sort_values(ascending=True)\n",
    "sns.barplot(x=coeff.values,y=coeff.index)\n",
    "plt.show()\n",
    "\n",
    "\n",
    "# RandomForest를 이용한 모형의 중요도\n",
    "rf_rg=RandomForestRegressor()\n",
    "# X_train.X_test,y_train,y_test = train_test_split(features,target,test_size=0.3,random_state=156)\n",
    "\n",
    "rf_rg.fit(pca_df,target)\n",
    "\n",
    "sns.barplot(x=rf_rg.feature_importances_,y=pca_df.columns)\n",
    "plt.show()\n",
    "\n",
    "pca.explained_variance_ratio_"
   ]
  },
  {
   "cell_type": "markdown",
   "id": "bbc306c2",
   "metadata": {},
   "source": [
    "## 지금 계속 항셍지수를 따로 빼서 모델 돌리니까 주가 지수에 넣고 금은 따로 둘까??"
   ]
  },
  {
   "cell_type": "code",
   "execution_count": null,
   "id": "ba8a1344",
   "metadata": {
    "ExecuteTime": {
     "end_time": "2022-04-26T07:50:15.809158Z",
     "start_time": "2022-04-26T07:50:15.809158Z"
    }
   },
   "outputs": [],
   "source": [
    "# 금의 채권 자산 편입: 상관관계 분석 결과 주식이나 채권과의 상관관계가 원자재보다 높았다.\n",
    "log_df_features = log_df_features.loc[:,'NDAQ':]\n",
    "\n",
    "#주식 스케일링\n",
    "pca_stock = PCA(n_components=1)\n",
    "pca_stock = pca_stock.fit_transform(log_df_features[['NDAQ','KOSPI','HSI','N225','SOX']])\n",
    "pca_stock = pd.DataFrame(pca_stock,columns=['STOCK1'],index=log_df_features.index)\n",
    "pca_stock\n",
    "\n",
    "# 채권\n",
    "pca_bill = PCA(n_components=1)\n",
    "pca_bill = pca_bill.fit_transform(log_df_features[['KR_3year_yield(%)','US_10year_yeild(%)']])\n",
    "pca_bill = pd.DataFrame(pca_bill,columns=['BILL'],index=log_df_features.index)\n",
    "\n",
    "# 유가\n",
    "pca_oil = PCA(n_components=1)\n",
    "pca_oil = pca_oil.fit_transform(log_df_features[['Dubai(BPD)','Brent(BPD)','WTI(BPD)']])\n",
    "pca_oil = pd.DataFrame(pca_oil,columns=['OIL'],index=log_df_features.index)\n",
    "\n",
    "# 환율\n",
    "pca_exchange = PCA(n_components=1)\n",
    "pca_exchange = pca_exchange.fit_transform(log_df_features[['JPY(1YEN)','USD(1$)']])\n",
    "pca_exchange = pd.DataFrame(pca_exchange,columns=['EXCHANGE'],index=log_df_features.index)\n",
    "pca_exchange\n",
    "\n",
    "pca_df = pd.concat([pca_stock,pca_bill,log_df_features['Gold($)'],pca_oil,pca_exchange],axis=1)\n",
    "\n",
    "\n",
    "plt.figure(figsize=(14,14))\n",
    "sns.heatmap(pca_df.corr(),annot=True, fmt='.1g')"
   ]
  },
  {
   "cell_type": "code",
   "execution_count": null,
   "id": "02e53fcf",
   "metadata": {
    "ExecuteTime": {
     "end_time": "2022-04-26T07:50:15.813149Z",
     "start_time": "2022-04-26T07:50:15.813149Z"
    }
   },
   "outputs": [],
   "source": [
    "# Lasso를 이용한 모형의 상관계수\n",
    "lasso = Lasso()\n",
    "lasso.fit(pca_df,target)\n",
    "coeff = pd.Series(data=lasso.coef_,index=pca_df.columns)\n",
    "coeff = coeff.sort_values(ascending=True)\n",
    "sns.barplot(x=coeff.values,y=coeff.index)\n",
    "plt.show()\n",
    "\n",
    "\n",
    "\n",
    "# Ridge를 이용한 모형의 상관계수\n",
    "ridge = Ridge()\n",
    "ridge.fit(pca_df,target)\n",
    "coeff = pd.Series(data=ridge.coef_,index=pca_df.columns)\n",
    "coeff = coeff.sort_values(ascending=True)\n",
    "sns.barplot(x=coeff.values,y=coeff.index)\n",
    "plt.show()\n",
    "\n",
    "\n",
    "# RandomForest를 이용한 모형의 중요도\n",
    "rf_rg=RandomForestRegressor()\n",
    "# X_train.X_test,y_train,y_test = train_test_split(features,target,test_size=0.3,random_state=156)\n",
    "\n",
    "rf_rg.fit(pca_df,target)\n",
    "\n",
    "sns.barplot(x=rf_rg.feature_importances_,y=pca_df.columns)\n",
    "plt.show()\n"
   ]
  },
  {
   "cell_type": "markdown",
   "id": "18ed22e6",
   "metadata": {
    "id": "18ed22e6"
   },
   "source": [
    "# 할거\n",
    "## 데이터 19.1.1~21.12.31 기반으로 한 삼성전자 주가와의 상관관계 분석(보조지표 활용)(1차적 목표)\n",
    "\n",
    "## 22년 4개월 데이터를 넣어서 검증(2차적? 최종 목적)\n",
    "\n",
    "## 전처리: 결측치 처리->데이터 확인(분포확인(그래프), 평균치, 분산 등), 스케일링(standard, minmax, log)\n",
    "\n",
    "## 분석모델 설정: 회귀(라쏘, 릿지, 엘라스틱,랜덤포레스트,{로지스틱회귀?}) , 시계열 분석(AR,MR,ARMR,ARIMA)\n",
    "\n",
    "## 검증: gridsearchCV\n",
    "\n",
    "\n",
    "## 주말에 할거: 모르는거 정리하기\n",
    "\n",
    "\n",
    "# 전처리\n",
    "## 나스닥은 하루 빠르기때문에 하루씩 뒤로 미뤄야 동일 시점이 된다.-> 실제 확인해보니 조정되어 있었다.\n",
    "## 결측치 처리법: 결측값 기준 전날 5일 ->연속적인 결측치를 처리하기 위하여 일주일의 5영업일을 기준으로 삼아서 전날 5일 평균값을 넣었다.-> 보간법을 찾아냈다. 이걸 적용하자-> 잘 되었다.\n",
    "## 니케이225의 경우 최초 1,2일, 한국 3년물 국채의 금리는 4,5일 데이터가 null 값이다....  어차피 결측치이면 개별 지수 데이터프레임에 interporate를 적용하는 것 보다는 전체 데이터의 결측치 값에 대해서 적용하는 것이 더 연속성이 있겠네....\n",
    "## interporate 적용: 국채금리 결측치 바로 해결\n",
    "## 주식 데이터 기간을 더 길게 가져와서 interporate 적용 후 관심 구간 추출: 니케이225 결측치 해결-> 이제 결측치는 없다."
   ]
  },
  {
   "cell_type": "code",
   "execution_count": null,
   "id": "792cf6f0",
   "metadata": {},
   "outputs": [],
   "source": []
  },
  {
   "cell_type": "code",
   "execution_count": null,
   "id": "b18062a2",
   "metadata": {},
   "outputs": [],
   "source": []
  },
  {
   "cell_type": "code",
   "execution_count": null,
   "id": "083098a2",
   "metadata": {},
   "outputs": [],
   "source": []
  },
  {
   "cell_type": "code",
   "execution_count": null,
   "id": "b9524e8e",
   "metadata": {},
   "outputs": [],
   "source": []
  },
  {
   "cell_type": "code",
   "execution_count": null,
   "id": "b7752b97",
   "metadata": {},
   "outputs": [],
   "source": []
  },
  {
   "cell_type": "code",
   "execution_count": null,
   "id": "6a787002",
   "metadata": {},
   "outputs": [],
   "source": []
  }
 ],
 "metadata": {
  "colab": {
   "collapsed_sections": [],
   "name": "해커톤 종합.ipynb",
   "provenance": []
  },
  "hide_input": false,
  "kernelspec": {
   "display_name": "Python 3 (ipykernel)",
   "language": "python",
   "name": "python3"
  },
  "language_info": {
   "codemirror_mode": {
    "name": "ipython",
    "version": 3
   },
   "file_extension": ".py",
   "mimetype": "text/x-python",
   "name": "python",
   "nbconvert_exporter": "python",
   "pygments_lexer": "ipython3",
   "version": "3.10.2"
  },
  "toc": {
   "base_numbering": 1,
   "nav_menu": {},
   "number_sections": true,
   "sideBar": true,
   "skip_h1_title": false,
   "title_cell": "Table of Contents",
   "title_sidebar": "Contents",
   "toc_cell": false,
   "toc_position": {
    "height": "calc(100% - 180px)",
    "left": "10px",
    "top": "150px",
    "width": "165px"
   },
   "toc_section_display": true,
   "toc_window_display": true
  },
  "varInspector": {
   "cols": {
    "lenName": 16,
    "lenType": 16,
    "lenVar": 40
   },
   "kernels_config": {
    "python": {
     "delete_cmd_postfix": "",
     "delete_cmd_prefix": "del ",
     "library": "var_list.py",
     "varRefreshCmd": "print(var_dic_list())"
    },
    "r": {
     "delete_cmd_postfix": ") ",
     "delete_cmd_prefix": "rm(",
     "library": "var_list.r",
     "varRefreshCmd": "cat(var_dic_list()) "
    }
   },
   "types_to_exclude": [
    "module",
    "function",
    "builtin_function_or_method",
    "instance",
    "_Feature"
   ],
   "window_display": false
  }
 },
 "nbformat": 4,
 "nbformat_minor": 5
}
